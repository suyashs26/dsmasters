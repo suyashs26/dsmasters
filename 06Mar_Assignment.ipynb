{
 "cells": [
  {
   "cell_type": "code",
   "execution_count": 1,
   "id": "d79a409f-5f33-41f4-9d1b-7b0f104a768b",
   "metadata": {},
   "outputs": [],
   "source": [
    "#1\n",
    "#Collecting , organinising and analysing data to affect decision making process"
   ]
  },
  {
   "cell_type": "code",
   "execution_count": 2,
   "id": "11242a3d-7793-4623-832a-a23a3bd2012d",
   "metadata": {},
   "outputs": [],
   "source": [
    "#2\n",
    "#Descriptive: Summarizing data , eg: Average height of students in a class dataset.\n",
    "#Inferential: Using sample data to form a conclusion which is used in population data. Eg:height of students in a class can be concluded as similar to heights of college dataset.\n"
   ]
  },
  {
   "cell_type": "code",
   "execution_count": 3,
   "id": "6a312c6e-47e2-49cc-98da-57304e5df7b0",
   "metadata": {},
   "outputs": [],
   "source": [
    "#3\n",
    "#Quantitative: Numerical datasets which consists of discrete and continuous data. eg: Height, weight\n",
    "#Qualitative: Categorical data which consists of nominal and ordinal data . eg: Gender, color, reviews"
   ]
  },
  {
   "cell_type": "code",
   "execution_count": null,
   "id": "e3a12a72-876c-4403-83a9-0bcf2526f04b",
   "metadata": {},
   "outputs": [],
   "source": [
    "#4\n",
    "#1 Ordinal Qualitative data\n",
    "#2 Nominal Qualitative data\n",
    "#3 Continuous Quantitative\n",
    "#4 Discrete Quantitative"
   ]
  },
  {
   "cell_type": "code",
   "execution_count": null,
   "id": "8ee4d914-620c-40b5-acfb-098bd9c273fa",
   "metadata": {},
   "outputs": [],
   "source": [
    "#5\n",
    "#Nominal scale data : Qualitative, order does not matter. eg: Gender\n",
    "#Ordinal Scale data: Qualitative, order matters. eg: Grades\n",
    "#Interval Scale data: Rank matters, difference can be measured. Does not have 0 starting value. eg: Temperature\n",
    "#Ratio Scale data:order matters, difference can be measured, does have 0 starting value. eg:marks"
   ]
  },
  {
   "cell_type": "code",
   "execution_count": null,
   "id": "93541759-a8b7-4efa-a00f-dbd0f3885637",
   "metadata": {},
   "outputs": [],
   "source": [
    "#6\n",
    "#the level of measurement determines the type of statistical analysis that can be conducted, and, therefore, the type of conclusions that can be drawn from the research. \n",
    "#It is useful in exploratory data analysis.\n",
    "#Eg: nomical data i.e. gender,color "
   ]
  },
  {
   "cell_type": "code",
   "execution_count": null,
   "id": "acbbb9d1-874c-4bad-acbe-cbaa2e9b361d",
   "metadata": {},
   "outputs": [],
   "source": [
    "#7\n",
    "#Nominal scale data : Qualitative, order does not matter. eg: Gender\n",
    "#Ordinal Scale data: Qualitative, order matters. eg: Grades"
   ]
  },
  {
   "cell_type": "code",
   "execution_count": null,
   "id": "656eef59-335f-4154-930e-a2da0c5b7cfe",
   "metadata": {},
   "outputs": [],
   "source": [
    "#8\n",
    "#line graph, histogram"
   ]
  },
  {
   "cell_type": "code",
   "execution_count": null,
   "id": "424ac688-48ae-427b-8e5f-89664a4f406c",
   "metadata": {},
   "outputs": [],
   "source": [
    "#9\n",
    "#Descriptive: Summarizing data , eg: Average height of students in a class dataset.\n",
    "#Inferential: Using sample data to form a conclusion which is used in population data. Eg:height of students in a class can be concluded as similar to heights of college dataset."
   ]
  },
  {
   "cell_type": "code",
   "execution_count": null,
   "id": "b12fb9cc-b94b-4668-b6c4-a2da0a8a0819",
   "metadata": {},
   "outputs": [],
   "source": [
    "#10\n",
    "#Mean median mode for central tendenancy\n",
    "#Standard deviation , variance for measure of dispersion\n",
    "\n",
    "#Mean is avg value of a data \n",
    "#The median is the value in the middle of a data set,\n",
    "#Mode "
   ]
  }
 ],
 "metadata": {
  "kernelspec": {
   "display_name": "Python 3 (ipykernel)",
   "language": "python",
   "name": "python3"
  },
  "language_info": {
   "codemirror_mode": {
    "name": "ipython",
    "version": 3
   },
   "file_extension": ".py",
   "mimetype": "text/x-python",
   "name": "python",
   "nbconvert_exporter": "python",
   "pygments_lexer": "ipython3",
   "version": "3.10.8"
  }
 },
 "nbformat": 4,
 "nbformat_minor": 5
}
