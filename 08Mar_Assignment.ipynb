{
 "cells": [
  {
   "cell_type": "code",
   "execution_count": 1,
   "id": "3d74cb25-3fe5-493b-9210-eaa5bfe733cf",
   "metadata": {},
   "outputs": [],
   "source": [
    "#1\n",
    "#Defines the distribution of continuous data "
   ]
  },
  {
   "cell_type": "code",
   "execution_count": 2,
   "id": "42dc24b2-96bc-4e98-98e3-b4be79c125bc",
   "metadata": {},
   "outputs": [],
   "source": [
    "#2\n",
    "#Normal distribution\n",
    "#Bernoulli distribution\n",
    "#binomial distribution\n",
    "#poisson distribution"
   ]
  },
  {
   "cell_type": "code",
   "execution_count": 13,
   "id": "5b2cdbdb-9ca5-4524-95e9-eab345efd838",
   "metadata": {},
   "outputs": [
    {
     "name": "stdout",
     "output_type": "stream",
     "text": [
      "[0.04070852 0.06610774 0.09509936 0.12118842 0.13680528 0.13680528\n",
      " 0.12118842 0.09509936 0.06610774 0.04070852]\n"
     ]
    }
   ],
   "source": [
    "#3\n",
    "from scipy.stats import norm\n",
    "import numpy as np\n",
    "import seaborn as sns\n",
    "\n",
    "x = [1,2,3,4,5,6,7,8,9,10]\n",
    "mean = np.mean(x)\n",
    "std = np.std(x)\n",
    "print(norm.pdf(x, mean, std))"
   ]
  },
  {
   "cell_type": "code",
   "execution_count": 21,
   "id": "93e216b9-f60d-49ef-8007-bf9022281ebd",
   "metadata": {},
   "outputs": [],
   "source": [
    "#4\n",
    "#combines bernoulli distribution\n",
    "#have number of experiments\n",
    "#toss of a coin\n",
    "#exam results - pass or fail"
   ]
  },
  {
   "cell_type": "code",
   "execution_count": 16,
   "id": "404f1d14-4dc7-4141-a2ce-5c13da391569",
   "metadata": {},
   "outputs": [
    {
     "data": {
      "image/png": "[encoded data removed]",
      "text/plain": [
       "<Figure size 640x480 with 1 Axes>"
      ]
     },
     "metadata": {},
     "output_type": "display_data"
    }
   ],
   "source": [
    "#5\n",
    "import numpy as np\n",
    "import matplotlib.pyplot as plt\n",
    "\n",
    "# Set the random seed for reproducibility\n",
    "np.random.seed(42)\n",
    "\n",
    "# Generate the sample\n",
    "n = 1000\n",
    "p = 0.4\n",
    "sample = np.random.binomial(n, p, size=n)\n",
    "\n",
    "# Plot the histogram\n",
    "plt.hist(sample, bins=20, density=True)\n",
    "plt.xlabel('Number of Successes')\n",
    "plt.ylabel('Frequency')\n",
    "plt.title('Binomial Distribution with n=1000, p=0.4')\n",
    "plt.show()\n"
   ]
  },
  {
   "cell_type": "code",
   "execution_count": 18,
   "id": "ec629a89-d428-498a-af21-64d09acbdb90",
   "metadata": {},
   "outputs": [
    {
     "name": "stdout",
     "output_type": "stream",
     "text": [
      "5.5\n",
      "[0.05859254 0.11150873 0.19204412 0.30075407 0.43090222 0.56909778\n",
      " 0.69924593 0.80795588 0.88849127 0.94140746]\n"
     ]
    }
   ],
   "source": [
    "#6\n",
    "x = [1,2,3,4,5,6,7,8,9,10]\n",
    "mean = np.mean(x)\n",
    "print(mean)\n",
    "std = np.std(x)\n",
    "print(norm.cdf(x, mean, std))"
   ]
  },
  {
   "cell_type": "code",
   "execution_count": 20,
   "id": "458e1235-e1c6-45ec-96c8-d4c77075b609",
   "metadata": {},
   "outputs": [
    {
     "data": {
      "text/plain": [
       "0.686035980282304"
      ]
     },
     "execution_count": 20,
     "metadata": {},
     "output_type": "execute_result"
    }
   ],
   "source": [
    "#7\n",
    "#The Binomial distribution is used when the number of trials is fixed, whereas the Poisson distribution is used when the number of trials is not fixed."
   ]
  },
  {
   "cell_type": "code",
   "execution_count": 24,
   "id": "d648b672-eec7-4019-a0d3-d19654ef47e5",
   "metadata": {},
   "outputs": [
    {
     "name": "stdout",
     "output_type": "stream",
     "text": [
      "Sample Mean: 4.985\n",
      "Sample Variance: 4.9967749999999995\n"
     ]
    }
   ],
   "source": [
    "#8\n",
    "import numpy as np\n",
    "\n",
    "# Set the random seed for reproducibility\n",
    "np.random.seed(42)\n",
    "\n",
    "# Generate the sample\n",
    "n = 1000\n",
    "mu = 5\n",
    "sample = np.random.poisson(mu, size=n)\n",
    "# Calculate the sample mean and variance\n",
    "sample_mean = np.mean(sample)\n",
    "sample_var = np.var(sample)\n",
    "\n",
    "# Print the results\n",
    "print(\"Sample Mean:\", sample_mean)\n",
    "print(\"Sample Variance:\", sample_var)\n"
   ]
  },
  {
   "cell_type": "code",
   "execution_count": 25,
   "id": "9519db9a-c400-4f3c-9423-fd9121109e53",
   "metadata": {},
   "outputs": [],
   "source": [
    "#9\n",
    "#In binomial, \n",
    "#mean = n * p\n",
    "#variance = n * p * (1 - p)\n",
    "\n",
    "#in poisson,\n",
    "#mean = variance = lambda\n"
   ]
  },
  {
   "cell_type": "code",
   "execution_count": null,
   "id": "833b7e13-545c-46e4-9517-19845a8d51d6",
   "metadata": {},
   "outputs": [],
   "source": [
    "#10\n"
   ]
  }
 ],
 "metadata": {
  "kernelspec": {
   "display_name": "Python 3 (ipykernel)",
   "language": "python",
   "name": "python3"
  },
  "language_info": {
   "codemirror_mode": {
    "name": "ipython",
    "version": 3
   },
   "file_extension": ".py",
   "mimetype": "text/x-python",
   "name": "python",
   "nbconvert_exporter": "python",
   "pygments_lexer": "ipython3",
   "version": "3.10.8"
  }
 },
 "nbformat": 4,
 "nbformat_minor": 5
}
