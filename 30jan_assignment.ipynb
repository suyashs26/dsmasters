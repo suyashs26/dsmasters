{
 "cells": [
  {
   "cell_type": "code",
   "execution_count": 3,
   "id": "80cbe68d-b32c-4434-a1e6-d901a948604c",
   "metadata": {},
   "outputs": [
    {
     "name": "stdin",
     "output_type": "stream",
     "text": [
      "Enter percentage: 90\n"
     ]
    },
    {
     "name": "stdout",
     "output_type": "stream",
     "text": [
      "GRADE: B\n"
     ]
    }
   ],
   "source": [
    "#1\n",
    "a = int(input(\"Enter percentage:\"))\n",
    "if(a>90):\n",
    "    print(\"GRADE: A\")\n",
    "elif(a>80 and a<=90):\n",
    "    print(\"GRADE: B\")\n",
    "elif(a>=60 and a<=80):\n",
    "    print(\"GRADE: C\")\n",
    "elif(a<60):\n",
    "    print(\"GRADE: D\")\n",
    "    \n"
   ]
  },
  {
   "cell_type": "code",
   "execution_count": 4,
   "id": "94b49551-cd54-4c02-ab0f-e6a6db4f2c15",
   "metadata": {},
   "outputs": [
    {
     "name": "stdin",
     "output_type": "stream",
     "text": [
      "Cost Price: 50000\n"
     ]
    },
    {
     "name": "stdout",
     "output_type": "stream",
     "text": [
      "TAX: 5%\n"
     ]
    }
   ],
   "source": [
    "#2\n",
    "a = int(input(\"Cost Price:\"))\n",
    "if(a>100000):\n",
    "    print(\"TAX: 15%\")\n",
    "elif(a>50000 and a<=100000):\n",
    "    print(\"TAX: 10%\")\n",
    "elif(a<=50000):\n",
    "    print(\"TAX: 5%\")"
   ]
  },
  {
   "cell_type": "code",
   "execution_count": 6,
   "id": "73637010-afcb-4fdd-8174-0c4d62264065",
   "metadata": {},
   "outputs": [
    {
     "name": "stdin",
     "output_type": "stream",
     "text": [
      "City: Jaipur\n"
     ]
    },
    {
     "name": "stdout",
     "output_type": "stream",
     "text": [
      "Jal Mahal\n"
     ]
    }
   ],
   "source": [
    "#3\n",
    "a = (input(\"City:\"))\n",
    "if(a==\"Delhi\"):\n",
    "    print(\"Red Fort\")\n",
    "elif(a==\"Agra\"):\n",
    "    print(\"Taj Mahal\")\n",
    "elif(a==\"Jaipur\"):\n",
    "    print(\"Jal Mahal\")"
   ]
  },
  {
   "cell_type": "code",
   "execution_count": 7,
   "id": "1da8ce30-2b61-47e3-9ff2-01321f5f4257",
   "metadata": {},
   "outputs": [
    {
     "name": "stdout",
     "output_type": "stream",
     "text": [
      "1\n",
      "2\n",
      "3\n",
      "4\n",
      "5\n"
     ]
    }
   ],
   "source": [
    "#5\n",
    "# With the while loop we can execute a set of statements as long as a condition is true.\n",
    "\n",
    "i = 1\n",
    "while i < 6:\n",
    "  print(i)\n",
    "  i += 1"
   ]
  },
  {
   "cell_type": "code",
   "execution_count": null,
   "id": "f74b3169-b8c3-4abb-881c-6528ceb37774",
   "metadata": {},
   "outputs": [],
   "source": [
    "#7\n",
    "i"
   ]
  }
 ],
 "metadata": {
  "kernelspec": {
   "display_name": "Python 3 (ipykernel)",
   "language": "python",
   "name": "python3"
  },
  "language_info": {
   "codemirror_mode": {
    "name": "ipython",
    "version": 3
   },
   "file_extension": ".py",
   "mimetype": "text/x-python",
   "name": "python",
   "nbconvert_exporter": "python",
   "pygments_lexer": "ipython3",
   "version": "3.10.8"
  }
 },
 "nbformat": 4,
 "nbformat_minor": 5
}
