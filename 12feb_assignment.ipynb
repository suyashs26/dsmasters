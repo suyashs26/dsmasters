{
 "cells": [
  {
   "cell_type": "code",
   "execution_count": 1,
   "id": "0d387990-e38f-42c0-b44c-7ac887c864e3",
   "metadata": {},
   "outputs": [],
   "source": [
    "#1\n",
    "#An exception is an event, which occurs during the execution of a program that disrupts the normal flow of the program's instructions\n",
    "#syntax errors cannot be handled during run time of a program and is occurred due to type errors.While exceptions are errors which occur during code flow or execution."
   ]
  },
  {
   "cell_type": "code",
   "execution_count": 2,
   "id": "f9bf1322-f445-4a3c-98f5-00de7d2f1a9f",
   "metadata": {},
   "outputs": [
    {
     "ename": "ZeroDivisionError",
     "evalue": "division by zero",
     "output_type": "error",
     "traceback": [
      "\u001b[0;31m---------------------------------------------------------------------------\u001b[0m",
      "\u001b[0;31mZeroDivisionError\u001b[0m                         Traceback (most recent call last)",
      "Cell \u001b[0;32mIn[2], line 3\u001b[0m\n\u001b[1;32m      1\u001b[0m \u001b[38;5;66;03m#2\u001b[39;00m\n\u001b[1;32m      2\u001b[0m \u001b[38;5;66;03m#When exception is not handled, code flow and following execution of program stops beside throwing an error message.\u001b[39;00m\n\u001b[0;32m----> 3\u001b[0m \u001b[38;5;28mprint\u001b[39m(\u001b[38;5;241;43m1\u001b[39;49m\u001b[38;5;241;43m/\u001b[39;49m\u001b[38;5;241;43m0\u001b[39;49m)\n\u001b[1;32m      4\u001b[0m \u001b[38;5;28mprint\u001b[39m(\u001b[38;5;124m\"\u001b[39m\u001b[38;5;124mCode after error\u001b[39m\u001b[38;5;124m\"\u001b[39m)\n",
      "\u001b[0;31mZeroDivisionError\u001b[0m: division by zero"
     ]
    }
   ],
   "source": [
    "#2\n",
    "#When exception is not handled, code flow and following execution of program stops beside throwing an error message.\n",
    "print(1/0)\n",
    "print(\"Code after error\")"
   ]
  },
  {
   "cell_type": "code",
   "execution_count": 3,
   "id": "11c03811-d9c3-4abf-8b53-620449d3e080",
   "metadata": {},
   "outputs": [
    {
     "name": "stdout",
     "output_type": "stream",
     "text": [
      "division by zero\n",
      "after error code\n"
     ]
    }
   ],
   "source": [
    "#3\n",
    "#Try and except block is used to handle exception.\n",
    "try:\n",
    "    print(1/0)\n",
    "except ZeroDivisionError as e:\n",
    "    print(e)\n",
    "print(\"after error code\")"
   ]
  },
  {
   "cell_type": "code",
   "execution_count": 9,
   "id": "6a3f3f62-44c2-4e5c-b1b0-4022d8448522",
   "metadata": {},
   "outputs": [
    {
     "name": "stdout",
     "output_type": "stream",
     "text": [
      "success try execution code\n",
      "after try code\n",
      "-----------------------------\n",
      "division by zero\n",
      "after try code\n",
      "-----------------------------\n"
     ]
    },
    {
     "ename": "Exception",
     "evalue": "Sorry, no numbers below zero",
     "output_type": "error",
     "traceback": [
      "\u001b[0;31m---------------------------------------------------------------------------\u001b[0m",
      "\u001b[0;31mException\u001b[0m                                 Traceback (most recent call last)",
      "Cell \u001b[0;32mIn[9], line 24\u001b[0m\n\u001b[1;32m     22\u001b[0m x \u001b[38;5;241m=\u001b[39m \u001b[38;5;241m-\u001b[39m\u001b[38;5;241m1\u001b[39m\n\u001b[1;32m     23\u001b[0m \u001b[38;5;28;01mif\u001b[39;00m x \u001b[38;5;241m<\u001b[39m \u001b[38;5;241m0\u001b[39m:\n\u001b[0;32m---> 24\u001b[0m   \u001b[38;5;28;01mraise\u001b[39;00m \u001b[38;5;167;01mException\u001b[39;00m(\u001b[38;5;124m\"\u001b[39m\u001b[38;5;124mSorry, no numbers below zero\u001b[39m\u001b[38;5;124m\"\u001b[39m)\n",
      "\u001b[0;31mException\u001b[0m: Sorry, no numbers below zero"
     ]
    }
   ],
   "source": [
    "#4\n",
    "#try and else is used when you want to execute a code once try block code is finished executing. So else will get executed after successfull execution of try, otherwise it wont execute\n",
    "try:\n",
    "    print(\"success try execution code\")\n",
    "except Exception as e:\n",
    "    print(e)\n",
    "else:\n",
    "    print(\"after try code\")\n",
    "print(\"-----------------------------\")   \n",
    "#finally block code will get executed irrespective of try and except block execution.\n",
    "try:\n",
    "    print(1/0)\n",
    "except Exception as e:\n",
    "    print(e)\n",
    "finally:\n",
    "    print(\"after try code\")\n",
    " \n",
    "print(\"-----------------------------\")   \n",
    "#raise\n",
    "#The raise keyword is used to raise an exception.\n",
    "#You can define what kind of error to raise, and the text to print to the user.\n",
    "x = -1\n",
    "if x < 0:\n",
    "  raise Exception(\"Sorry, no numbers below zero\")\n",
    " \n"
   ]
  },
  {
   "cell_type": "code",
   "execution_count": 11,
   "id": "e0b30dc6-14bb-4d2f-8971-18dde376a846",
   "metadata": {},
   "outputs": [
    {
     "name": "stdin",
     "output_type": "stream",
     "text": [
      "Enter a number:  4\n"
     ]
    },
    {
     "name": "stdout",
     "output_type": "stream",
     "text": [
      "Exception occurred: Invalid Age\n"
     ]
    }
   ],
   "source": [
    "#5\n",
    "#custom exceptions are user defined exception created by user for particular use case\n",
    "# define Python user-defined exceptions\n",
    "class InvalidAgeException(Exception):\n",
    "    \"Raised when the input value is less than 18\"\n",
    "    pass\n",
    "\n",
    "# you need to guess this number\n",
    "number = 18\n",
    "\n",
    "try:\n",
    "    input_num = int(input(\"Enter a number: \"))\n",
    "    if input_num < number:\n",
    "        raise InvalidAgeException\n",
    "    else:\n",
    "        print(\"Eligible to Vote\")\n",
    "        \n",
    "except InvalidAgeException:\n",
    "    print(\"Exception occurred: Invalid Age\")\n"
   ]
  },
  {
   "cell_type": "code",
   "execution_count": null,
   "id": "49f53f89-b889-4af2-aeba-e6c5792df24e",
   "metadata": {},
   "outputs": [],
   "source": []
  }
 ],
 "metadata": {
  "kernelspec": {
   "display_name": "Python 3 (ipykernel)",
   "language": "python",
   "name": "python3"
  },
  "language_info": {
   "codemirror_mode": {
    "name": "ipython",
    "version": 3
   },
   "file_extension": ".py",
   "mimetype": "text/x-python",
   "name": "python",
   "nbconvert_exporter": "python",
   "pygments_lexer": "ipython3",
   "version": "3.10.8"
  }
 },
 "nbformat": 4,
 "nbformat_minor": 5
}
