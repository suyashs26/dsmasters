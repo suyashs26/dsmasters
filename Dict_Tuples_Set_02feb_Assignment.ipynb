{
 "cells": [
  {
   "cell_type": "markdown",
   "id": "1894a4bb-bd37-4c42-9393-e223bb1119ba",
   "metadata": {},
   "source": [
    "#1\n",
    "1. Tuples are ordered data structure.\n",
    "2. Can have duplicate values\n",
    "3. Tuples have indexes starting from 0 .\n",
    "4. No, tuples are not mutable i.e. cannot be altered."
   ]
  },
  {
   "cell_type": "markdown",
   "id": "0159bc60-62af-441a-8789-1176d1af7acb",
   "metadata": {},
   "source": [
    "#2\n",
    "Two tuple methods are\n",
    "1. count() : it will return total occurences of a specific value.\n",
    "2. index(): it will return index or position of a specific value in a tuple.\n",
    "\n",
    "Tuples have only 2 methods unlike list because tuples are mutable so data manipulation i.e. appending, deleting ,updating operations are not allowed."
   ]
  },
  {
   "cell_type": "code",
   "execution_count": 2,
   "id": "62f69c39-7192-42f3-98a2-41a7132d4767",
   "metadata": {},
   "outputs": [
    {
     "name": "stdout",
     "output_type": "stream",
     "text": [
      "[1, 2, 3, 4]\n"
     ]
    }
   ],
   "source": [
    "#3\n",
    "#Sets do not allow duplicate values .\n",
    "List = [1, 1, 1, 2, 1, 3, 1, 4, 2, 1, 2, 2, 2, 3, 2, 4, 3, 1, 3, 2, 3, 3, 3, 4, 4, 1, 4, 2, 4, 3, 4, 4]\n",
    "set1 = set(List)\n",
    "list1 = list(set1)\n",
    "print(list1)"
   ]
  },
  {
   "cell_type": "code",
   "execution_count": 4,
   "id": "eac754b9-169e-4649-89a6-8368d683fbfd",
   "metadata": {},
   "outputs": [
    {
     "name": "stdout",
     "output_type": "stream",
     "text": [
      "{'m', 'a', 'b', 'g', 'c'}\n",
      "{'m', 'a', 'b', 'g', 'c'}\n"
     ]
    }
   ],
   "source": [
    "#4\n",
    "#Both union() and update() are used to perform union operation. However, difference is:\n",
    "#set.update() updates the existing set and has a return value of None, whereas set.union() does not affect the existing set and returns a new set.\n",
    "#set.union() example\n",
    "x = {\"a\", \"b\", \"c\"}\n",
    "y = {\"g\", \"m\", \"a\"}\n",
    "z = x.union(y)\n",
    "print(z)\n",
    "#set.update() example\n",
    "x = {\"a\",\"b\",\"c\"}\n",
    "y = {\"g\", \"m\", \"a\"}\n",
    "x.update(y)\n",
    "print(x)"
   ]
  },
  {
   "cell_type": "markdown",
   "id": "bad6979f-dbac-4e70-bff2-1554507ef09f",
   "metadata": {},
   "source": [
    "#5\n",
    "Dictionaries are data structures used to store data in key value pairs .They are ordered and mutable. \n",
    "Example :  Adict = {\"a\":1,\"b\":2}, here a and b are keys and 1 and 2 are values of respective keys.\n"
   ]
  },
  {
   "cell_type": "code",
   "execution_count": 10,
   "id": "901094b4-6e31-47d7-881b-0d9b5055e961",
   "metadata": {},
   "outputs": [
    {
     "name": "stdout",
     "output_type": "stream",
     "text": [
      "{'name': 'xyz', 'address': {'city': 'mumbai', 'state': 'MH', 'country': 'India'}} <class 'dict'> \n",
      " {'city': 'mumbai', 'state': 'MH', 'country': 'India'} <class 'dict'>\n"
     ]
    }
   ],
   "source": [
    "#6\n",
    "#Yes we can create nested dictionaries, below is an example\n",
    "\n",
    "a = {\"name\":\"xyz\",\"address\":{\"city\":\"mumbai\",\"state\":\"MH\",\"country\":\"India\"}}\n",
    "print(a,type(a),\"\\n\",a['address'], type(a['address']))"
   ]
  },
  {
   "cell_type": "code",
   "execution_count": 14,
   "id": "a47884fd-01db-40b3-8ea0-a320fed92b95",
   "metadata": {},
   "outputs": [
    {
     "name": "stdout",
     "output_type": "stream",
     "text": [
      "{'language': 'Python', 'course': 'Data Science Masters', 'topics': ['Python', 'Machine Learning', 'Deep Learning']}\n"
     ]
    }
   ],
   "source": [
    "#7\n",
    "dict1 = {'language' : 'Python', 'course': 'Data Science Masters'}\n",
    "L = [\"Python\", \"Machine Learning\", \"Deep Learning\"]\n",
    "dict1.setdefault(\"topics\",L)\n",
    "print(dict1)"
   ]
  },
  {
   "cell_type": "code",
   "execution_count": 16,
   "id": "d1258a8b-7645-489b-a374-c748095ac2b5",
   "metadata": {},
   "outputs": [
    {
     "name": "stdout",
     "output_type": "stream",
     "text": [
      "dict_keys(['Sport', 'Teams'])\n",
      "dict_values(['Cricket', ['India', 'Australia', 'England', 'South Africa', 'Sri Lanka', 'New Zealand']])\n",
      "dict_items([('Sport', 'Cricket'), ('Teams', ['India', 'Australia', 'England', 'South Africa', 'Sri Lanka', 'New Zealand'])])\n"
     ]
    }
   ],
   "source": [
    "#8 \n",
    "#Three view items are : keys,values, items\n",
    "dict1 = {'Sport': 'Cricket' , 'Teams': ['India', 'Australia', 'England', 'South Africa', 'Sri Lanka', 'New Zealand']}\n",
    "\n",
    "#keys\n",
    "print(dict1.keys())\n",
    "\n",
    "#values\n",
    "print(dict1.values())\n",
    "\n",
    "#items\n",
    "print(dict1.items())"
   ]
  },
  {
   "cell_type": "code",
   "execution_count": null,
   "id": "c756c507-cc57-4880-89cb-21e94d58f2ee",
   "metadata": {},
   "outputs": [],
   "source": []
  }
 ],
 "metadata": {
  "kernelspec": {
   "display_name": "Python 3 (ipykernel)",
   "language": "python",
   "name": "python3"
  },
  "language_info": {
   "codemirror_mode": {
    "name": "ipython",
    "version": 3
   },
   "file_extension": ".py",
   "mimetype": "text/x-python",
   "name": "python",
   "nbconvert_exporter": "python",
   "pygments_lexer": "ipython3",
   "version": "3.10.8"
  }
 },
 "nbformat": 4,
 "nbformat_minor": 5
}
