{
 "cells": [
  {
   "cell_type": "code",
   "execution_count": 4,
   "id": "c7cc24ab-3e75-48bb-9529-11df498a7685",
   "metadata": {},
   "outputs": [],
   "source": [
    "#1\n",
    "from bokeh.plotting import figure, show\n",
    "\n",
    "# prepare some data\n",
    "x = [1, 2, 3, 4, 5]\n",
    "y = [6, 7, 2, 4, 5]\n",
    "\n",
    "# create a new plot with a title and axis labels\n",
    "p = figure(title=\"Simple line example\", x_axis_label=\"x\", y_axis_label=\"y\")\n",
    "\n",
    "# add a line renderer with legend and line thickness\n",
    "p.line(x, y, legend_label=\"Temp.\", line_width=2)\n",
    "\n",
    "# show the results\n",
    "show(p)"
   ]
  },
  {
   "cell_type": "code",
   "execution_count": 5,
   "id": "4adef75c-5340-4b96-866e-277070efb478",
   "metadata": {},
   "outputs": [],
   "source": [
    "#2\n",
    "#Glyphs are used to define data points to be plotted.\n",
    "# prepare some data\n",
    "x = [1, 2, 3, 4, 5]\n",
    "y = [6, 7, 2, 4, 5]\n",
    "\n",
    "# create a new plot with a title and axis labels\n",
    "p = figure(title=\"Simple line example\", x_axis_label=\"x\", y_axis_label=\"y\")\n",
    "\n",
    "# add a line renderer with legend and line thickness\n",
    "p.line(x, y, legend_label=\"Temp.\", line_width=2)\n",
    "\n",
    "# show the results\n",
    "show(p)\n",
    "\n",
    "#Here p.line glyphs uses x and y data points to plot graph "
   ]
  },
  {
   "cell_type": "code",
   "execution_count": 8,
   "id": "065f6ea8-112c-42f8-838b-4eaee5633cba",
   "metadata": {},
   "outputs": [],
   "source": [
    "#3\n",
    "#using figure.title, and figure.legend functions\n",
    "\n",
    "x = [1, 2, 3, 4, 5]\n",
    "y = [6, 7, 2, 4, 5]\n",
    "\n",
    "# create a new plot with a title and axis labels\n",
    "p = figure(title=\"Simple line example\", x_axis_label=\"x\", y_axis_label=\"y\")\n",
    "\n",
    "# add a line renderer with legend and line thickness\n",
    "p.line(x, y, legend_label=\"Temp.\", line_width=2)\n",
    "p.title  = \"xyz\"\n",
    "p.legend.title = \"zyd\"\n",
    "\n",
    "# show the results\n",
    "show(p)"
   ]
  },
  {
   "cell_type": "code",
   "execution_count": 9,
   "id": "d47a4c78-b24c-4988-a79b-16ee49207945",
   "metadata": {},
   "outputs": [],
   "source": [
    "#4\n",
    "#Bokeh server makes it easy to create interactive web applications that connect front-end UI events to running Python code\n",
    "\n",
    "#bokeh serve --show myapp.py to run a bokeh application , in browser we can access UI to  create interactive web application."
   ]
  },
  {
   "cell_type": "code",
   "execution_count": null,
   "id": "e93150df-cce2-457c-866d-432c372eae87",
   "metadata": {},
   "outputs": [],
   "source": [
    "#5\n",
    "p = figure()\n",
    "p.circle(x, y)\n",
    "\n",
    "item_text = json.dumps(json_item(p, \"myplot\"))\n",
    "\n",
    "item = JSON.parse(item_text);\n",
    "Bokeh.embed.embed_item(item);\n",
    "\n",
    "#The embed_item() function can then use this output on a web page:"
   ]
  }
 ],
 "metadata": {
  "kernelspec": {
   "display_name": "Python 3 (ipykernel)",
   "language": "python",
   "name": "python3"
  },
  "language_info": {
   "codemirror_mode": {
    "name": "ipython",
    "version": 3
   },
   "file_extension": ".py",
   "mimetype": "text/x-python",
   "name": "python",
   "nbconvert_exporter": "python",
   "pygments_lexer": "ipython3",
   "version": "3.10.8"
  }
 },
 "nbformat": 4,
 "nbformat_minor": 5
}
