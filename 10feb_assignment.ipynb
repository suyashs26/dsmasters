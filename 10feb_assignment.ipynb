{
 "cells": [
  {
   "cell_type": "code",
   "execution_count": 1,
   "id": "8f6f4d01-9c33-432d-ad2b-3ab7848a146d",
   "metadata": {},
   "outputs": [],
   "source": [
    "#1\n",
    "# open() function is used to open file and perform different operations.\n",
    "#'r'\tOpen a file for reading. (default)\n",
    "#'w'\tOpen a file for writing. Creates a new file if it does not exist or truncates the file if it exists.\n",
    "#'x'\tOpen a file for exclusive creation. If the file already exists, the operation fails.\n",
    "#'a'\tOpen for appending at the end of the file without truncating it. Creates a new file if it does not exist.\n",
    "#'t'\tOpen in text mode. (default)\n",
    "#'b'\tOpen in binary mode."
   ]
  },
  {
   "cell_type": "code",
   "execution_count": 2,
   "id": "8d8c899b-d80d-4643-b5aa-5e44425ed3ca",
   "metadata": {},
   "outputs": [],
   "source": [
    "#2\n",
    "#Python file method close() closes the opened file. A closed file cannot be read or written any more.\n",
    "# making sure files are closed after use will protect against hard-to-debug issues like running out of file handles or experiencing corrupted data."
   ]
  },
  {
   "cell_type": "code",
   "execution_count": 4,
   "id": "5ff29256-4976-4cb5-868b-640d0aae460b",
   "metadata": {},
   "outputs": [
    {
     "name": "stdout",
     "output_type": "stream",
     "text": [
      "‘I want to become a Data Scientist’\n"
     ]
    }
   ],
   "source": [
    "#3\n",
    "file = open(\"test.txt\",\"w\") \n",
    "file.write(\"‘I want to become a Data Scientist’\")\n",
    "file.close()\n",
    "file = open(\"test.txt\",\"r\") \n",
    "print(file.read())"
   ]
  },
  {
   "cell_type": "code",
   "execution_count": 5,
   "id": "d5bdc837-1c8b-4675-a285-440fe7cb34ae",
   "metadata": {},
   "outputs": [],
   "source": [
    "#4\n",
    "#Python readline() method will return a line from the file when called.\n",
    "#readlines() method will return all the lines in a file in the format of a list where each element is a line in the file.\n",
    "#Returns the read bytes in the form of a string. Reads n bytes; if n is not specified, then reads the entire file.\n"
   ]
  },
  {
   "cell_type": "code",
   "execution_count": 6,
   "id": "c936a25a-c557-48c5-88c6-f83c9b7af100",
   "metadata": {},
   "outputs": [],
   "source": [
    "#5\n",
    "#with statement is used in exception handling to make the code cleaner and much more readable. It simplifies the management of common resources like file streams.\n",
    "#Using with means that the file will be closed as soon as you leave the block. This is beneficial because closing a file is something that can easily be forgotten and ties up resources that you no longer need.\n"
   ]
  },
  {
   "cell_type": "code",
   "execution_count": 7,
   "id": "29476fe6-4604-4619-b588-a63c3506569c",
   "metadata": {},
   "outputs": [
    {
     "ename": "IndentationError",
     "evalue": "expected an indented block after 'for' statement on line 8 (1168344296.py, line 9)",
     "output_type": "error",
     "traceback": [
      "\u001b[0;36m  Cell \u001b[0;32mIn[7], line 9\u001b[0;36m\u001b[0m\n\u001b[0;31m    name = input(\"Enter the name of the employee: \")\u001b[0m\n\u001b[0m    ^\u001b[0m\n\u001b[0;31mIndentationError\u001b[0m\u001b[0;31m:\u001b[0m expected an indented block after 'for' statement on line 8\n"
     ]
    }
   ],
   "source": [
    "#6\n",
    "#The write() function will write the content in the file without adding any extra characters.\n",
    "#writelines() writes the content of a list to a file.\n",
    "#The only difference between the write() and writelines() is that write() is used to write a string to an already opened file while writelines() method is used to write a list of strings in an opened file.\n",
    "#write() eg:\n",
    "file = open(\"Employees.txt\", \"w\")\n",
    "\n",
    "for i in range(3):\n",
    "    name = input(\"Enter the name of the employee: \")\n",
    "    file.write(name)\n",
    "file.write(\"\\n\")\n",
    "\t\n",
    "file.close()\n",
    "\n",
    "print(\"Data is written into the file.\")\n",
    "\n",
    "#writelines() eg:\n",
    "file1 = open(\"Employees.txt\", \"w\")\n",
    "lst = []\n",
    "for i in range(3):\n",
    "\tname = input(\"Enter the name of the employee: \")\n",
    "\tlst.append(name + '\\n')\n",
    "\t\n",
    "file1.writelines(lst)\n",
    "file1.close()\n",
    "print(\"Data is written into the file.\")\n",
    "\n"
   ]
  },
  {
   "cell_type": "code",
   "execution_count": null,
   "id": "051a97b3-79f2-4bce-8a1a-e935021d1425",
   "metadata": {},
   "outputs": [],
   "source": []
  }
 ],
 "metadata": {
  "kernelspec": {
   "display_name": "Python 3 (ipykernel)",
   "language": "python",
   "name": "python3"
  },
  "language_info": {
   "codemirror_mode": {
    "name": "ipython",
    "version": 3
   },
   "file_extension": ".py",
   "mimetype": "text/x-python",
   "name": "python",
   "nbconvert_exporter": "python",
   "pygments_lexer": "ipython3",
   "version": "3.10.8"
  }
 },
 "nbformat": 4,
 "nbformat_minor": 5
}
