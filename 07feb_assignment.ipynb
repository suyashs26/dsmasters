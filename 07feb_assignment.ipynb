{
 "cells": [
  {
   "cell_type": "code",
   "execution_count": 6,
   "id": "077b8bd5-f36a-4b0b-afd4-4f4e5911f71a",
   "metadata": {},
   "outputs": [
    {
     "name": "stdin",
     "output_type": "stream",
     "text": [
      "Enter Password:  SuYf23#@4%\n"
     ]
    },
    {
     "name": "stdout",
     "output_type": "stream",
     "text": [
      "Valid Password\n"
     ]
    }
   ],
   "source": [
    "#1\n",
    "import re\n",
    "def password_validator(password):\n",
    "    is_valid = False\n",
    "    if(len(password)<10):\n",
    "        is_valid = False\n",
    "    else:  \n",
    "        matched = re.match(\"[A-Z].*[A-Z]|[a-z].*[a-z]|[0-9]|[$&+,:;=?@#|'<>.^*()%!-]\", password)\n",
    "        is_valid = bool(matched)\n",
    "    if(is_valid == True):\n",
    "        result = \"Valid Password\"\n",
    "    else:\n",
    "        result = \"Invalid Password\"\n",
    "    return result    \n",
    "password = input(\"Enter Password: \")\n",
    "print(password_validator(password))"
   ]
  },
  {
   "cell_type": "code",
   "execution_count": 25,
   "id": "c7e8db1d-f33c-4b73-8454-0d5734665ae7",
   "metadata": {},
   "outputs": [
    {
     "name": "stdout",
     "output_type": "stream",
     "text": [
      "True\n",
      "True\n",
      "[('orange', 80), ('mango', 99), ('grapes', 1000)]\n",
      "[1, 4, 9, 16, 25, 36, 49, 64, 81, 100]\n",
      "[1.0, 1.2599210498948732, 1.4422495703074083, 1.5874010519681994, 1.7099759466766968, 1.8171205928321397, 1.912931182772389, 2.0, 2.080083823051904, 2.154434690031884]\n",
      "True\n",
      "[1, 3, 5, 7, 9]\n",
      "[-5, -4, -3, -2, -1, 0, 1, 2, 3, 4, 5, 6]\n",
      "[1, 2, 3, 4, 5, 6]\n",
      "[-1, -2, -3, -4, -5]\n"
     ]
    }
   ],
   "source": [
    "#2\n",
    "#a\n",
    "x = \"John Milton\"\n",
    "starts_with = lambda x: True if x.startswith('J') else False\n",
    "print(starts_with(x))\n",
    "\n",
    "#b\n",
    "x = \"1234\"\n",
    "check = lambda x: True if int(x) else False\n",
    "print(check(x))\n",
    "\n",
    "#c\n",
    "L = [(\"mango\",99),(\"orange\",80), (\"grapes\", 1000)]\n",
    "newList = sorted(L, key = lambda x : x[1],reverse=False)\n",
    "print(newList)\n",
    "\n",
    "#d\n",
    "L = [i**2 for i in range(1,11)]\n",
    "print(L)\n",
    "\n",
    "#e\n",
    "L = [i**(1/3) for i in range(1,11)]\n",
    "print(L)\n",
    "\n",
    "#f\n",
    "a = 6\n",
    "check = lambda x : True if x%2==0 else False\n",
    "print(check(a))\n",
    "\n",
    "#g\n",
    "L = [1,2,3,4,5,6,7,8,9,10]\n",
    "new_list = list(filter(lambda x:x%2!=0,L))\n",
    "print(new_list)\n",
    "\n",
    "#h\n",
    "L = [1,2,3,4,5,6,-1,-2,-3,-4,-5,0]\n",
    "positive = [i for i in L if i>0]\n",
    "negative = [i for i in L if i<0]\n",
    "print(sorted(L))\n",
    "print(positive)\n",
    "print(negative)\n"
   ]
  },
  {
   "cell_type": "code",
   "execution_count": null,
   "id": "cb3b0671-a67f-4680-9682-3aeaf0d28d4e",
   "metadata": {},
   "outputs": [],
   "source": []
  }
 ],
 "metadata": {
  "kernelspec": {
   "display_name": "Python 3 (ipykernel)",
   "language": "python",
   "name": "python3"
  },
  "language_info": {
   "codemirror_mode": {
    "name": "ipython",
    "version": 3
   },
   "file_extension": ".py",
   "mimetype": "text/x-python",
   "name": "python",
   "nbconvert_exporter": "python",
   "pygments_lexer": "ipython3",
   "version": "3.10.8"
  }
 },
 "nbformat": 4,
 "nbformat_minor": 5
}
