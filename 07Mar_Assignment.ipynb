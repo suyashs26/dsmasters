{
 "cells": [
  {
   "cell_type": "code",
   "execution_count": 1,
   "id": "0fd9f0fb-c901-4a9c-a1d2-dcb65c3edc8b",
   "metadata": {},
   "outputs": [],
   "source": [
    "#1\n",
    "#Mean,median, mode"
   ]
  },
  {
   "cell_type": "code",
   "execution_count": 2,
   "id": "71d3dadd-8bc6-4f5c-8102-700559629af3",
   "metadata": {},
   "outputs": [],
   "source": [
    "#2\n",
    "#Mean: average of data set\n",
    "#Median : centre element of data set\n",
    "#Mode :  most occuring element .i.e frequency of data set"
   ]
  },
  {
   "cell_type": "code",
   "execution_count": 5,
   "id": "09a1ad11-7a80-4eb3-af7f-935ab4409500",
   "metadata": {},
   "outputs": [
    {
     "name": "stdout",
     "output_type": "stream",
     "text": [
      "177.01875 177.0\n",
      "ModeResult(mode=array([177.]), count=array([3]))\n"
     ]
    },
    {
     "name": "stderr",
     "output_type": "stream",
     "text": [
      "/tmp/ipykernel_91/1197253519.py:6: FutureWarning: Unlike other reduction functions (e.g. `skew`, `kurtosis`), the default behavior of `mode` typically preserves the axis it acts along. In SciPy 1.11.0, this behavior will change: the default value of `keepdims` will become False, the `axis` over which the statistic is taken will be eliminated, and the value None will no longer be accepted. Set `keepdims` to True or False to avoid this warning.\n",
      "  print(stats.mode(l))\n"
     ]
    }
   ],
   "source": [
    "#3\n",
    "l =  [178,177,176,177,178.2,178,175,179,180,175,178.9,176.2,177,172.5,178,176.5]\n",
    "import numpy as np\n",
    "from scipy import stats\n",
    "print(np.mean(l),np.median(l))\n",
    "print(stats.mode(l))"
   ]
  },
  {
   "cell_type": "code",
   "execution_count": 6,
   "id": "f5993502-4eec-4964-828a-bc93e514ec92",
   "metadata": {},
   "outputs": [
    {
     "name": "stdout",
     "output_type": "stream",
     "text": [
      "1.7885814036548633\n"
     ]
    }
   ],
   "source": [
    "#4\n",
    "print(np.std(l))"
   ]
  },
  {
   "cell_type": "code",
   "execution_count": 7,
   "id": "c30041a4-ae89-49e3-aaf3-545506b0586d",
   "metadata": {},
   "outputs": [],
   "source": [
    "#5\n",
    "#Variance is The average of the squared differences from the Mean.\n",
    "#The Standard Deviation is a measure of how spread out numbers are.\n",
    "#Example: height of students in a class. std and var helps to find spread of heights in a class, how data varies from mean.So, using the Standard Deviation we have a \"standard\" way of knowing what is normal, and what is extra large or extra small."
   ]
  },
  {
   "cell_type": "code",
   "execution_count": 8,
   "id": "4dd1626a-4f6c-4dde-8159-d7aca33f953d",
   "metadata": {},
   "outputs": [],
   "source": [
    "#6\n",
    "#Venn diagram is an illustration that uses circles to show the relationships among things or finite groups of things."
   ]
  },
  {
   "cell_type": "code",
   "execution_count": 9,
   "id": "04fed064-2d40-46d9-a6a1-329f5a372ffe",
   "metadata": {},
   "outputs": [],
   "source": [
    "#7\n",
    "#intersection is {2,6}\n",
    "#union is {0,2,3,4,5,6,7,8,10}"
   ]
  },
  {
   "cell_type": "code",
   "execution_count": 10,
   "id": "ffa33944-b6fe-4ee4-ac0e-007f98af178e",
   "metadata": {},
   "outputs": [],
   "source": [
    "#8\n",
    "#Skewness is a measure of the asymmetry of a distribution"
   ]
  },
  {
   "cell_type": "code",
   "execution_count": 12,
   "id": "cb564c30-85c1-4d24-aec8-4b8437c540f5",
   "metadata": {},
   "outputs": [],
   "source": [
    "#9\n",
    "#In right skewed or positive skewed, mean > median > mode.. i.e. mean is at right side of median and median is left of mean."
   ]
  },
  {
   "cell_type": "code",
   "execution_count": 13,
   "id": "9ce6ff12-bc99-49e0-aefd-93ad8a3a5331",
   "metadata": {},
   "outputs": [],
   "source": [
    "#10\n",
    "#Covariance is an indicator of the extent to which 2 random variables are dependent on each other. A higher number denotes higher dependency. Correlation is a statistical measure that indicates how strongly two variables are related"
   ]
  },
  {
   "cell_type": "code",
   "execution_count": 16,
   "id": "b02cd0ef-42cd-41bd-99aa-c924df4133b3",
   "metadata": {},
   "outputs": [
    {
     "data": {
      "text/plain": [
       "2.5"
      ]
     },
     "execution_count": 16,
     "metadata": {},
     "output_type": "execute_result"
    }
   ],
   "source": [
    "#11\n",
    "# sample mean is  sum of all data/number of data points\n",
    "l = [1,2,3,4]\n",
    "mean = (1+2+3+4)/4\n",
    "mean"
   ]
  },
  {
   "cell_type": "code",
   "execution_count": 17,
   "id": "175dbeb8-1781-45d5-b74d-9b9ec2ec3f81",
   "metadata": {},
   "outputs": [],
   "source": [
    "#12\n",
    "#For normal distribution, mean = mode = median i.e. peak "
   ]
  },
  {
   "cell_type": "code",
   "execution_count": 18,
   "id": "0a17f131-a300-4c2e-8d8b-cd2369af781f",
   "metadata": {},
   "outputs": [],
   "source": [
    "#13\n",
    "#covariance can have limit from -infinity to infinity  , while correlation limit is from -1 to 1."
   ]
  },
  {
   "cell_type": "code",
   "execution_count": 19,
   "id": "e6b8f4a4-f61f-45a5-87f0-f542d0271855",
   "metadata": {},
   "outputs": [
    {
     "name": "stdout",
     "output_type": "stream",
     "text": [
      "2.5 202.0\n",
      "1.118033988749895 399.00125313086426\n"
     ]
    }
   ],
   "source": [
    "#14\n",
    "#outliers affect the mean of dataset as well as standard deviation.\n",
    "l = [1,2,3,4]\n",
    "l1 = [1,2,3,4,1000]\n",
    "print(np.mean(l),np.mean(l1))\n",
    "print(np.std(l),np.std(l1))\n"
   ]
  },
  {
   "cell_type": "code",
   "execution_count": null,
   "id": "07b34da0-04be-4c0a-86af-03ba3506405d",
   "metadata": {},
   "outputs": [],
   "source": []
  }
 ],
 "metadata": {
  "kernelspec": {
   "display_name": "Python 3 (ipykernel)",
   "language": "python",
   "name": "python3"
  },
  "language_info": {
   "codemirror_mode": {
    "name": "ipython",
    "version": 3
   },
   "file_extension": ".py",
   "mimetype": "text/x-python",
   "name": "python",
   "nbconvert_exporter": "python",
   "pygments_lexer": "ipython3",
   "version": "3.10.8"
  }
 },
 "nbformat": 4,
 "nbformat_minor": 5
}
