{
 "cells": [
  {
   "cell_type": "code",
   "execution_count": 1,
   "id": "b44f9a82-57ae-4b95-ad5f-763fef44ff82",
   "metadata": {},
   "outputs": [],
   "source": [
    "#1\n",
    "#API refers  to application programming interface, which is used to communicate between different appllications.Eg:IRCTC has built in APIs which can be consumed by 3rd party appliccations if approved"
   ]
  },
  {
   "cell_type": "code",
   "execution_count": 2,
   "id": "4337171c-d193-4548-bd60-3db408fc4280",
   "metadata": {},
   "outputs": [
    {
     "data": {
      "text/plain": [
       "'\\nAdvantages:\\nEfficiency: When you have content that is automatically published and made available on different channels simultaneously, APIs allow for more efficient data distribution. Adaptability: One of the greatest benefits of APIs is the ability it has to adapt to changes through data migration and flexibility of services\\n\\nDisadvantage:\\nAPIs are vulnerable to man-in-the-middle attacks, CSRF attacks, XSS attacks, SQL injection, and DDoS attacks.\\nMaintainance cost is high.\\n'"
      ]
     },
     "execution_count": 2,
     "metadata": {},
     "output_type": "execute_result"
    }
   ],
   "source": [
    "#2\n",
    "'''\n",
    "Advantages:\n",
    "Efficiency: When you have content that is automatically published and made available on different channels simultaneously, APIs allow for more efficient data distribution. Adaptability: One of the greatest benefits of APIs is the ability it has to adapt to changes through data migration and flexibility of services\n",
    "\n",
    "Disadvantage:\n",
    "APIs are vulnerable to man-in-the-middle attacks, CSRF attacks, XSS attacks, SQL injection, and DDoS attacks.\n",
    "Maintainance cost is high.\n",
    "'''"
   ]
  },
  {
   "cell_type": "code",
   "execution_count": 3,
   "id": "6b570fd9-780b-47e8-b535-1337029efb64",
   "metadata": {},
   "outputs": [],
   "source": [
    "#3\n",
    "#A Web API is an application programming interface for the Web. A Browser API can extend the functionality of a web browser\n",
    "# API is an interface that exposes an application's data to outside software, whereas web applications are one type of API with stricter requirements.\n",
    "#All Web services are APIs but not all APIs are Web services."
   ]
  },
  {
   "cell_type": "code",
   "execution_count": null,
   "id": "e24814cc-7d4d-4eba-b10e-324cfd4184a2",
   "metadata": {},
   "outputs": [],
   "source": [
    "#4\n",
    "#Representational State Transfer (REST) is an architectural style that defines a set of constraints to be used for creating web services. REST API is a way of accessing web services in a simple and flexible way without having any processing.REST uses HTTP PROTOCOL\n",
    "#SOAP is a messaging protocol, securing SOAP APIs is primarily focused on preventing unauthorized access to the messages (and users’ information contained within those messages) received by and sent from SOAP APIs\n",
    "\n",
    "#REST is flexible,scalable, uses HTTP protocol\n",
    "#SOAP API uses TCP/SMTP  protocol, more secure, uses XML "
   ]
  }
 ],
 "metadata": {
  "kernelspec": {
   "display_name": "Python 3 (ipykernel)",
   "language": "python",
   "name": "python3"
  },
  "language_info": {
   "codemirror_mode": {
    "name": "ipython",
    "version": 3
   },
   "file_extension": ".py",
   "mimetype": "text/x-python",
   "name": "python",
   "nbconvert_exporter": "python",
   "pygments_lexer": "ipython3",
   "version": "3.10.8"
  }
 },
 "nbformat": 4,
 "nbformat_minor": 5
}
