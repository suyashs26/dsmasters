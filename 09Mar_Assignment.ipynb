{
 "cells": [
  {
   "cell_type": "code",
   "execution_count": 1,
   "id": "8bb9a266-614d-4fc6-b8f4-c378c55f8a43",
   "metadata": {},
   "outputs": [],
   "source": [
    "#1\n",
    "#PMF is used for discrete random variables ,where outcomes are fixed , while pdf takes on continuous random variable and provides density at particular point.\n",
    "#Eg of PMF, toss of a coin, eg of pdf: Heights of adults"
   ]
  },
  {
   "cell_type": "code",
   "execution_count": 2,
   "id": "92865418-c5df-4e22-a473-87dbd8f91237",
   "metadata": {},
   "outputs": [],
   "source": [
    "#2\n",
    "#CDF is the summation of probability density upto a specific point of the random variable.The CDF is used because it provides a complete description of the probability distribution of a random variable. It allows us to calculate probabilities for a range of values"
   ]
  },
  {
   "cell_type": "code",
   "execution_count": 4,
   "id": "be555054-1e9c-4dea-aece-5dda39833210",
   "metadata": {},
   "outputs": [],
   "source": [
    "#3\n",
    "#Heights of adults,  IQ of a population, weight of population \n",
    "#Shape is a bell curve, with mean at the centre and the adjacent data points being mean+std , mean-std specifically.\n"
   ]
  },
  {
   "cell_type": "code",
   "execution_count": 6,
   "id": "7640fab7-3585-4d8b-be08-429ca004db2f",
   "metadata": {},
   "outputs": [],
   "source": [
    "#4\n",
    "#Useful in inferential statistics and analysis.The Normal Distribution is symmetric, bell-shaped, and has a well-defined mean and variance, which makes it a stable and predictable distribution\n",
    "#Heights of adults,  IQ of a population, weight of population "
   ]
  },
  {
   "cell_type": "code",
   "execution_count": 7,
   "id": "342014bc-ad86-45d4-8036-b3f785c152a6",
   "metadata": {},
   "outputs": [],
   "source": [
    "#5\n",
    "#Bernoulli distribution follows PMF. It has 2 outcomes - success and fail .eg: Exam result, coin toss.\n",
    "#Binomial distribtion combines bernoulli distribution and provides probability for a set of experiment trials.\n",
    "# The key difference between the two is that the Bernoulli Distribution models a single experiment with two possible outcomes, while the Binomial Distribution models multiple independent experiments, each with a Bernoulli distribution, and counts the number of successes. "
   ]
  },
  {
   "cell_type": "code",
   "execution_count": 9,
   "id": "d9ea9b26-84ee-470f-b5a4-c2c52ebc1235",
   "metadata": {},
   "outputs": [
    {
     "data": {
      "text/plain": [
       "0.15869999999999995"
      ]
     },
     "execution_count": 9,
     "metadata": {},
     "output_type": "execute_result"
    }
   ],
   "source": [
    "#6\n",
    "m = 50\n",
    "std = 10\n",
    "x = 60\n",
    "z_score = (60-50)/10\n",
    "#from z table , area under curve for less than 60 is 0.8413\n",
    "#probability of greateer than 60 is\n",
    "p = 1 -  0.8413\n",
    "p"
   ]
  },
  {
   "cell_type": "code",
   "execution_count": 10,
   "id": "034a1c96-dce5-492b-8a71-517a786c8cea",
   "metadata": {},
   "outputs": [],
   "source": [
    "#7\n",
    "#he Uniform Distribution is a continuous probability distribution that describes a situation where all values within a certain range are equally likely to occur.\n",
    "#Eg: Fair dice"
   ]
  },
  {
   "cell_type": "code",
   "execution_count": 11,
   "id": "3f59cea6-88c9-43e6-8454-0e308e67199e",
   "metadata": {},
   "outputs": [],
   "source": [
    "#8\n",
    "#it is a measure of how many standard deviations a given data point is away from the mean of the data set. \n",
    "#The z-score allows us to compare observations from different data sets that may have different means and standard deviations. By standardizing the values, we can determine how many standard deviations an observation is away from the mean of the data set, and therefore, how extreme or unusual that observation is."
   ]
  },
  {
   "cell_type": "code",
   "execution_count": 12,
   "id": "9018dcc8-6dd8-45cc-8cea-5d7dc7e4f088",
   "metadata": {},
   "outputs": [],
   "source": [
    "#9\n",
    "# states that the sampling distribution of the mean of a large sample taken from any population with a finite variance approaches a normal distribution, regardless of the shape of the original population distribution.\n",
    "#allows us to make meaningful inferences about the population using sample data."
   ]
  },
  {
   "cell_type": "code",
   "execution_count": 13,
   "id": "b7f6bfb7-029a-4f9d-8102-278b011c9e87",
   "metadata": {},
   "outputs": [],
   "source": [
    "#10\n",
    "#random sampling and the sample size should be large."
   ]
  },
  {
   "cell_type": "code",
   "execution_count": null,
   "id": "b76cebc9-cb45-4b83-a335-020b91b8784f",
   "metadata": {},
   "outputs": [],
   "source": []
  }
 ],
 "metadata": {
  "kernelspec": {
   "display_name": "Python 3 (ipykernel)",
   "language": "python",
   "name": "python3"
  },
  "language_info": {
   "codemirror_mode": {
    "name": "ipython",
    "version": 3
   },
   "file_extension": ".py",
   "mimetype": "text/x-python",
   "name": "python",
   "nbconvert_exporter": "python",
   "pygments_lexer": "ipython3",
   "version": "3.10.8"
  }
 },
 "nbformat": 4,
 "nbformat_minor": 5
}
