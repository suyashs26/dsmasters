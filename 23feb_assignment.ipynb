{
 "cells": [
  {
   "cell_type": "code",
   "execution_count": 1,
   "id": "48465d33-a047-4f8b-930e-7de42527cec1",
   "metadata": {},
   "outputs": [
    {
     "name": "stdout",
     "output_type": "stream",
     "text": [
      "0     4\n",
      "1     8\n",
      "2    15\n",
      "3    16\n",
      "4    23\n",
      "5    42\n",
      "dtype: int64\n"
     ]
    }
   ],
   "source": [
    "#1 and 2\n",
    "import pandas as pd\n",
    "\n",
    "l=[4,8,15,16,23,42]\n",
    "\n",
    "df = pd.Series(l)\n",
    "print(df)\n"
   ]
  },
  {
   "cell_type": "code",
   "execution_count": 2,
   "id": "49e6a3d9-bd02-466e-930c-ed55bc3925ed",
   "metadata": {},
   "outputs": [
    {
     "name": "stdout",
     "output_type": "stream",
     "text": [
      "     name  Age  Gender\n",
      "0   Alice   25  Female\n",
      "1     Bob   30    Male\n",
      "2  Claire   27  Female\n"
     ]
    }
   ],
   "source": [
    "#3\n",
    "\n",
    "d = {\"name\":[\"Alice\",\"Bob\",\"Claire\"],\"Age\":[25,30,27],\"Gender\":[\"Female\",\"Male\",\"Female\"]}\n",
    "df = pd.DataFrame(d)\n",
    "print(df)"
   ]
  },
  {
   "cell_type": "code",
   "execution_count": 3,
   "id": "5c07b040-73ca-4889-9ce3-673149bc725d",
   "metadata": {},
   "outputs": [],
   "source": [
    "#4\n",
    "#Dataframe is a data structure offered by pandas module used to store data in rows and columns like tables. Series is 1D .Series consists of homogeneous data, whereas dataframe consists of heterogeneous data."
   ]
  },
  {
   "cell_type": "code",
   "execution_count": 6,
   "id": "1c5953bc-7cf4-4a68-8b2e-b731bd3ba0ac",
   "metadata": {},
   "outputs": [
    {
     "name": "stdout",
     "output_type": "stream",
     "text": [
      "    name  Age  Gender\n",
      "0  Alice   25  Female\n",
      "     name  Age  Gender\n",
      "2  Claire   27  Female\n",
      "<class 'pandas.core.frame.DataFrame'>\n",
      "RangeIndex: 3 entries, 0 to 2\n",
      "Data columns (total 3 columns):\n",
      " #   Column  Non-Null Count  Dtype \n",
      "---  ------  --------------  ----- \n",
      " 0   name    3 non-null      object\n",
      " 1   Age     3 non-null      int64 \n",
      " 2   Gender  3 non-null      object\n",
      "dtypes: int64(1), object(2)\n",
      "memory usage: 200.0+ bytes\n",
      "None\n"
     ]
    }
   ],
   "source": [
    "#5\n",
    "d = {\"name\":[\"Alice\",\"Bob\",\"Claire\"],\"Age\":[25,30,27],\"Gender\":[\"Female\",\"Male\",\"Female\"]}\n",
    "df = pd.DataFrame(d)\n",
    "print(df.head(1))\n",
    "print(df.tail(1))\n",
    "print(df.info())"
   ]
  },
  {
   "cell_type": "code",
   "execution_count": 7,
   "id": "0a240a49-beb5-4f4a-bfa9-ddb3f687fb1f",
   "metadata": {},
   "outputs": [],
   "source": [
    "#6\n",
    "#Series"
   ]
  },
  {
   "cell_type": "code",
   "execution_count": null,
   "id": "26ce4168-b19c-4e66-a3bb-daaaf687235a",
   "metadata": {},
   "outputs": [],
   "source": [
    "#7\n",
    "Name = [\"Alice\",\"Bob\",\"Claire\"]\n",
    "Age = [25,30,27]\n",
    "\n",
    "name = pd.Series(Name)\n",
    "age =  pd.Series(Age)\n",
    "\n",
    "dict = {'name':name,'age':age"
   ]
  }
 ],
 "metadata": {
  "kernelspec": {
   "display_name": "Python 3 (ipykernel)",
   "language": "python",
   "name": "python3"
  },
  "language_info": {
   "codemirror_mode": {
    "name": "ipython",
    "version": 3
   },
   "file_extension": ".py",
   "mimetype": "text/x-python",
   "name": "python",
   "nbconvert_exporter": "python",
   "pygments_lexer": "ipython3",
   "version": "3.10.8"
  }
 },
 "nbformat": 4,
 "nbformat_minor": 5
}
