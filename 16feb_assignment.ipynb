{
 "cells": [
  {
   "cell_type": "code",
   "execution_count": 1,
   "id": "013d3cbe-94ba-4e8a-9508-b72a5937af94",
   "metadata": {},
   "outputs": [],
   "source": [
    "#1\n",
    "#A database is an organized collection of structured information, or data, typically stored electronically in a computer system\n",
    "#SQL is structured query language i.e it stores data based om a structure., schema fixed, vertically scalable,table format, relational\n",
    "#No SQL is non sql type of db, it is more flexible, unstrucutured, schema less, horizontally scalable, document,graph format , non relational."
   ]
  },
  {
   "cell_type": "code",
   "execution_count": 2,
   "id": "3955c3ca-f26d-4a2a-bbbf-75ef54f09681",
   "metadata": {},
   "outputs": [
    {
     "data": {
      "text/plain": [
       "'\\nThe DDL Commands in Structured Query Language are used to create and modify the schema of the database and its objects\\nCREATE Command\\nCREATE Database Database_Name;  \\nDROP Command\\nDROP DATABASE Database_Name;  \\nALTER Command\\nALTER TABLE name_of_table ADD column_name column_definition;  \\nTRUNCATE Command\\nTRUNCATE TABLE Table_Name;  \\nRENAME Command\\nRENAME TABLE Old_Table_Name TO New_Table_Name;  \\n'"
      ]
     },
     "execution_count": 2,
     "metadata": {},
     "output_type": "execute_result"
    }
   ],
   "source": [
    "#2\n",
    "\"\"\"\n",
    "The DDL Commands in Structured Query Language are used to create and modify the schema of the database and its objects\n",
    "CREATE Command\n",
    "CREATE Database Database_Name;  \n",
    "DROP Command\n",
    "DROP DATABASE Database_Name;  \n",
    "ALTER Command\n",
    "ALTER TABLE name_of_table ADD column_name column_definition;  \n",
    "TRUNCATE Command\n",
    "TRUNCATE TABLE Table_Name;  \n",
    "RENAME Command\n",
    "RENAME TABLE Old_Table_Name TO New_Table_Name;  \n",
    "\"\"\"\n"
   ]
  },
  {
   "cell_type": "code",
   "execution_count": 3,
   "id": "f47b044a-4c45-4d46-bffe-53014be98bb8",
   "metadata": {},
   "outputs": [
    {
     "data": {
      "text/plain": [
       "'\\nThe DML commands in Structured Query Language change the data present in the SQL database. We can easily access, store, modify, update and delete the existing records from the database using DML commands.\\nSELECT Command\\nINSERT Command\\nUPDATE Command\\nDELETE Command\\n'"
      ]
     },
     "execution_count": 3,
     "metadata": {},
     "output_type": "execute_result"
    }
   ],
   "source": [
    "#3\n",
    "\"\"\"\n",
    "The DML commands in Structured Query Language change the data present in the SQL database. We can easily access, store, modify, update and delete the existing records from the database using DML commands.\n",
    "SELECT Command\n",
    "INSERT Command\n",
    "UPDATE Command\n",
    "DELETE Command\n",
    "\"\"\""
   ]
  },
  {
   "cell_type": "code",
   "execution_count": 4,
   "id": "3b309b67-8a45-455b-b2c2-5127f53d2e52",
   "metadata": {},
   "outputs": [
    {
     "data": {
      "text/plain": [
       "'\\nDQL is used to fetch the data from the database.\\n\\nIt uses only one command:\\n\\nSELECT\\na. SELECT: This is the same as the projection operation of relational algebra. It is used to select the attribute based on the condition described by WHERE clause.\\n'"
      ]
     },
     "execution_count": 4,
     "metadata": {},
     "output_type": "execute_result"
    }
   ],
   "source": [
    "#4\n",
    "\"\"\"\n",
    "DQL is used to fetch the data from the database.\n",
    "\n",
    "It uses only one command:\n",
    "\n",
    "SELECT\n",
    "a. SELECT: This is the same as the projection operation of relational algebra. It is used to select the attribute based on the condition described by WHERE clause.\n",
    "\"\"\""
   ]
  },
  {
   "cell_type": "code",
   "execution_count": 5,
   "id": "235cbbf8-9b57-4e37-9483-dd87c0aaf769",
   "metadata": {},
   "outputs": [],
   "source": [
    "#5\n",
    "#The primary key is a unique or non-null key that uniquely identifies every record in a table or relation. Each database needs a unique identifier for every row of a table, and the primary key plays a vital role in identifying rows in the table uniquely. \n",
    "#The foreign key is a group of one or more columns in a database to uniquely identify another database record in some other table to maintain the referential integrity. It is also known as the referencing key that establishes a relationship between two different tables in a database."
   ]
  },
  {
   "cell_type": "code",
   "execution_count": 7,
   "id": "6a925e55-e464-477d-9a97-9cd49c81a011",
   "metadata": {},
   "outputs": [
    {
     "name": "stdout",
     "output_type": "stream",
     "text": [
      "Opened database successfully\n"
     ]
    }
   ],
   "source": [
    "#6\n",
    "import mysql.connector\n",
    "\n",
    "#establishing the connection\n",
    "conn = mysql.connector.connect(user='root', password='password', host='127.0.0.1', database='mydb')\n",
    "\n",
    "#Creating a cursor object using the cursor() method\n",
    "cursor = conn.cursor()\n",
    "\n",
    "#A cursor is an object which helps to execute the query and fetch the records from the database. \n",
    "#The execute () method helps us to execute the query and return records according to the query. \n"
   ]
  },
  {
   "cell_type": "code",
   "execution_count": null,
   "id": "d0e1627d-2c93-46a0-b05d-41f71c4a331e",
   "metadata": {},
   "outputs": [],
   "source": [
    "#7\n"
   ]
  }
 ],
 "metadata": {
  "kernelspec": {
   "display_name": "Python 3 (ipykernel)",
   "language": "python",
   "name": "python3"
  },
  "language_info": {
   "codemirror_mode": {
    "name": "ipython",
    "version": 3
   },
   "file_extension": ".py",
   "mimetype": "text/x-python",
   "name": "python",
   "nbconvert_exporter": "python",
   "pygments_lexer": "ipython3",
   "version": "3.10.8"
  }
 },
 "nbformat": 4,
 "nbformat_minor": 5
}
