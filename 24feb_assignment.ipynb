{
 "cells": [
  {
   "cell_type": "code",
   "execution_count": 2,
   "id": "2b866a99-d2b8-416c-b2ec-730a1880f1d2",
   "metadata": {},
   "outputs": [
    {
     "data": {
      "text/plain": [
       "'\\ndf.head() --return top values from dataframe\\ndf.tail() -- return bottom values from datafram\\ndf.info() -- return summary of dataframe and data type of columns\\ndf.describe() -- return statistics of data \\ndf.loc -- returns the group of rows and columns identified by their labels or names.\\n'"
      ]
     },
     "execution_count": 2,
     "metadata": {},
     "output_type": "execute_result"
    }
   ],
   "source": [
    "#1\n",
    "'''\n",
    "df.head() --return top values from dataframe\n",
    "df.tail() -- return bottom values from datafram\n",
    "df.info() -- return summary of dataframe and data type of columns\n",
    "df.describe() -- return statistics of data \n",
    "df.loc -- returns the group of rows and columns identified by their labels or names.\n",
    "'''"
   ]
  },
  {
   "cell_type": "code",
   "execution_count": 15,
   "id": "b8d469b6-4408-40c8-805a-f925d0cdebd4",
   "metadata": {},
   "outputs": [
    {
     "name": "stdout",
     "output_type": "stream",
     "text": [
      "   A   B   C\n",
      "1  4   6  17\n",
      "3  7   8  13\n",
      "5  1  10  12\n",
      "7  8  15  16\n",
      "9  9  11  14\n"
     ]
    }
   ],
   "source": [
    "#2\n",
    "import pandas as pd\n",
    "\n",
    "info = pd.DataFrame({\"A\":[4, 7, 1, 8, 9],   \n",
    "                   \"B\":[6, 8, 10, 15, 11],   \n",
    "                   \"C\":[17, 13, 12, 16, 14]})\n",
    "\n",
    "info.index = pd.RangeIndex(start=1, stop=10, step=2)\n",
    "print(info)"
   ]
  },
  {
   "cell_type": "code",
   "execution_count": 22,
   "id": "98383cb0-99df-4eca-9ef8-6dfa411e52d0",
   "metadata": {},
   "outputs": [
    {
     "data": {
      "text/plain": [
       "12"
      ]
     },
     "execution_count": 22,
     "metadata": {},
     "output_type": "execute_result"
    }
   ],
   "source": [
    "#3\n",
    "import pandas as pd\n",
    "\n",
    "info = pd.DataFrame({\"values\":[4, 7, 1, 8, 9],   \n",
    "                   \"B\":[6, 8, 10, 15, 11],   \n",
    "                   \"C\":[17, 13, 12, 16, 14]})\n",
    "\n",
    "\n",
    "def sum_of_values(info):\n",
    "    return (sum(info['values'][0:3]))\n",
    "\n",
    "sum_of_values(info)"
   ]
  },
  {
   "cell_type": "code",
   "execution_count": 24,
   "id": "9a37411f-2680-4f55-9847-b85d34024897",
   "metadata": {},
   "outputs": [
    {
     "data": {
      "text/html": [
       "<div>\n",
       "<style scoped>\n",
       "    .dataframe tbody tr th:only-of-type {\n",
       "        vertical-align: middle;\n",
       "    }\n",
       "\n",
       "    .dataframe tbody tr th {\n",
       "        vertical-align: top;\n",
       "    }\n",
       "\n",
       "    .dataframe thead th {\n",
       "        text-align: right;\n",
       "    }\n",
       "</style>\n",
       "<table border=\"1\" class=\"dataframe\">\n",
       "  <thead>\n",
       "    <tr style=\"text-align: right;\">\n",
       "      <th></th>\n",
       "      <th>Text</th>\n",
       "      <th>B</th>\n",
       "      <th>C</th>\n",
       "      <th>word_count</th>\n",
       "    </tr>\n",
       "  </thead>\n",
       "  <tbody>\n",
       "    <tr>\n",
       "      <th>0</th>\n",
       "      <td>name a string</td>\n",
       "      <td>6</td>\n",
       "      <td>17</td>\n",
       "      <td>3</td>\n",
       "    </tr>\n",
       "    <tr>\n",
       "      <th>1</th>\n",
       "      <td>make words</td>\n",
       "      <td>8</td>\n",
       "      <td>13</td>\n",
       "      <td>2</td>\n",
       "    </tr>\n",
       "    <tr>\n",
       "      <th>2</th>\n",
       "      <td>read</td>\n",
       "      <td>10</td>\n",
       "      <td>12</td>\n",
       "      <td>1</td>\n",
       "    </tr>\n",
       "    <tr>\n",
       "      <th>3</th>\n",
       "      <td>book</td>\n",
       "      <td>15</td>\n",
       "      <td>16</td>\n",
       "      <td>1</td>\n",
       "    </tr>\n",
       "    <tr>\n",
       "      <th>4</th>\n",
       "      <td>sunday monday tuesday wednesday</td>\n",
       "      <td>11</td>\n",
       "      <td>14</td>\n",
       "      <td>4</td>\n",
       "    </tr>\n",
       "  </tbody>\n",
       "</table>\n",
       "</div>"
      ],
      "text/plain": [
       "                              Text   B   C  word_count\n",
       "0                    name a string   6  17           3\n",
       "1                       make words   8  13           2\n",
       "2                             read  10  12           1\n",
       "3                             book  15  16           1\n",
       "4  sunday monday tuesday wednesday  11  14           4"
      ]
     },
     "execution_count": 24,
     "metadata": {},
     "output_type": "execute_result"
    }
   ],
   "source": [
    "#4\n",
    "import pandas as pd\n",
    "\n",
    "info = pd.DataFrame({\"Text\":[\"name a string\", \"make words\", \"read\", \"book\", \"sunday monday tuesday wednesday\"],   \n",
    "                   \"B\":[6, 8, 10, 15, 11],   \n",
    "                   \"C\":[17, 13, 12, 16, 14]})\n",
    "\n",
    "def new_col(info):\n",
    "    count = [ len(i.split()) for i in info['Text']]\n",
    "    #print(count)\n",
    "    info['word_count'] =  count\n",
    "    return info\n",
    "new_col(info)    "
   ]
  },
  {
   "cell_type": "code",
   "execution_count": 25,
   "id": "3e6daebb-0911-4bc8-ac38-9f9d56632a40",
   "metadata": {},
   "outputs": [],
   "source": [
    "#5\n",
    "#.size returns total number of elements, it is compared by multiplying rows and columns returned by the shape method"
   ]
  },
  {
   "cell_type": "code",
   "execution_count": 26,
   "id": "ac0b9628-5bda-436d-8bae-a7701e2f73ce",
   "metadata": {},
   "outputs": [],
   "source": [
    "#6\n",
    "#read_excel is the function"
   ]
  },
  {
   "cell_type": "code",
   "execution_count": 29,
   "id": "722e9aaf-08ab-40d1-b54d-f8c3b89c7ec1",
   "metadata": {},
   "outputs": [
    {
     "data": {
      "text/html": [
       "<div>\n",
       "<style scoped>\n",
       "    .dataframe tbody tr th:only-of-type {\n",
       "        vertical-align: middle;\n",
       "    }\n",
       "\n",
       "    .dataframe tbody tr th {\n",
       "        vertical-align: top;\n",
       "    }\n",
       "\n",
       "    .dataframe thead th {\n",
       "        text-align: right;\n",
       "    }\n",
       "</style>\n",
       "<table border=\"1\" class=\"dataframe\">\n",
       "  <thead>\n",
       "    <tr style=\"text-align: right;\">\n",
       "      <th></th>\n",
       "      <th>Email</th>\n",
       "      <th>B</th>\n",
       "      <th>C</th>\n",
       "      <th>username</th>\n",
       "    </tr>\n",
       "  </thead>\n",
       "  <tbody>\n",
       "    <tr>\n",
       "      <th>0</th>\n",
       "      <td>abc@gmail.com</td>\n",
       "      <td>6</td>\n",
       "      <td>17</td>\n",
       "      <td>abc</td>\n",
       "    </tr>\n",
       "    <tr>\n",
       "      <th>1</th>\n",
       "      <td>syzefw@youtube.com</td>\n",
       "      <td>8</td>\n",
       "      <td>13</td>\n",
       "      <td>syzefw</td>\n",
       "    </tr>\n",
       "    <tr>\n",
       "      <th>2</th>\n",
       "      <td>gweg@outlook.com</td>\n",
       "      <td>10</td>\n",
       "      <td>12</td>\n",
       "      <td>gweg</td>\n",
       "    </tr>\n",
       "    <tr>\n",
       "      <th>3</th>\n",
       "      <td>restue@ewge.com</td>\n",
       "      <td>15</td>\n",
       "      <td>16</td>\n",
       "      <td>restue</td>\n",
       "    </tr>\n",
       "    <tr>\n",
       "      <th>4</th>\n",
       "      <td>jks@hotmail.com</td>\n",
       "      <td>11</td>\n",
       "      <td>14</td>\n",
       "      <td>jks</td>\n",
       "    </tr>\n",
       "  </tbody>\n",
       "</table>\n",
       "</div>"
      ],
      "text/plain": [
       "                Email   B   C username\n",
       "0       abc@gmail.com   6  17      abc\n",
       "1  syzefw@youtube.com   8  13   syzefw\n",
       "2    gweg@outlook.com  10  12     gweg\n",
       "3     restue@ewge.com  15  16   restue\n",
       "4     jks@hotmail.com  11  14      jks"
      ]
     },
     "execution_count": 29,
     "metadata": {},
     "output_type": "execute_result"
    }
   ],
   "source": [
    "#7\n",
    "import pandas as pd\n",
    "\n",
    "info = pd.DataFrame({\"Email\":[\"abc@gmail.com\", \"syzefw@youtube.com\", \"gweg@outlook.com\", \"restue@ewge.com\", \"jks@hotmail.com\"],   \n",
    "                   \"B\":[6, 8, 10, 15, 11],   \n",
    "                   \"C\":[17, 13, 12, 16, 14]})\n",
    "\n",
    "def username_col(info):\n",
    "    usernames = [ str(i.split('@')[0]) for i in info['Email']]\n",
    "    info['username'] = usernames\n",
    "    return info\n",
    "\n",
    "username_col(info)"
   ]
  },
  {
   "cell_type": "code",
   "execution_count": 35,
   "id": "426d8e71-3961-46c6-ad40-1b472aa320c8",
   "metadata": {},
   "outputs": [
    {
     "data": {
      "text/html": [
       "<div>\n",
       "<style scoped>\n",
       "    .dataframe tbody tr th:only-of-type {\n",
       "        vertical-align: middle;\n",
       "    }\n",
       "\n",
       "    .dataframe tbody tr th {\n",
       "        vertical-align: top;\n",
       "    }\n",
       "\n",
       "    .dataframe thead th {\n",
       "        text-align: right;\n",
       "    }\n",
       "</style>\n",
       "<table border=\"1\" class=\"dataframe\">\n",
       "  <thead>\n",
       "    <tr style=\"text-align: right;\">\n",
       "      <th></th>\n",
       "      <th>A</th>\n",
       "      <th>B</th>\n",
       "      <th>C</th>\n",
       "    </tr>\n",
       "  </thead>\n",
       "  <tbody>\n",
       "    <tr>\n",
       "      <th>1</th>\n",
       "      <td>7</td>\n",
       "      <td>8</td>\n",
       "      <td>13</td>\n",
       "    </tr>\n",
       "  </tbody>\n",
       "</table>\n",
       "</div>"
      ],
      "text/plain": [
       "   A  B   C\n",
       "1  7  8  13"
      ]
     },
     "execution_count": 35,
     "metadata": {},
     "output_type": "execute_result"
    }
   ],
   "source": [
    "#8\n",
    "import pandas as pd\n",
    "\n",
    "info = pd.DataFrame({\"A\":[4, 7, 1, 8, 9],   \n",
    "                   \"B\":[6, 8, 10, 15, 11],   \n",
    "                   \"C\":[17, 13, 12, 16, 14]})\n",
    "\n",
    "def selected_values(info):\n",
    "    result_df = info[(info['A'] > 5) & (info['B'] <10 )]\n",
    "    return result_df\n",
    "selected_values(info)"
   ]
  },
  {
   "cell_type": "code",
   "execution_count": 38,
   "id": "d7ee8729-39b0-4b83-89f4-6b4adb889c67",
   "metadata": {},
   "outputs": [
    {
     "name": "stdout",
     "output_type": "stream",
     "text": [
      "5.8\n",
      "7.0\n",
      "3.2710854467592254\n"
     ]
    }
   ],
   "source": [
    "#9\n",
    "\n",
    "import pandas as pd\n",
    "\n",
    "info = pd.DataFrame({\"values\":[4, 7, 1, 8, 9],   \n",
    "                   \"B\":[6, 8, 10, 15, 11],   \n",
    "                   \"C\":[17, 13, 12, 16, 14]})\n",
    "\n",
    "print(info['values'].mean())\n",
    "print(info['values'].median())\n",
    "print(info['values'].std())"
   ]
  },
  {
   "cell_type": "code",
   "execution_count": 39,
   "id": "7ed6dd79-fc55-446f-8b98-6ca8e8c47882",
   "metadata": {},
   "outputs": [],
   "source": [
    "#10\n"
   ]
  },
  {
   "cell_type": "code",
   "execution_count": 49,
   "id": "ce6a74a7-4dd1-4285-abe9-e0d52105af6d",
   "metadata": {},
   "outputs": [
    {
     "name": "stdout",
     "output_type": "stream",
     "text": [
      "         date    weekday\n",
      "0  2023-01-01     Sunday\n",
      "1  2023-01-02     Monday\n",
      "2  2023-01-03    Tuesday\n",
      "3  2023-01-04  Wednesday\n",
      "4  2023-01-05   Thursday\n"
     ]
    }
   ],
   "source": [
    "#11\n",
    "from datetime import datetime\n",
    "data  = { \"date\": [\"2023-01-01\",\"2023-01-02\",\"2023-01-03\",\"2023-01-04\",\"2023-01-05\"]}\n",
    "df = pd.DataFrame(data)\n",
    "l = [] \n",
    "for i in data['date']:\n",
    "    date_object = datetime.strptime(i, \"%Y-%m-%d\")\n",
    "    l.append(date_object.strftime('%A'))\n",
    "df['weekday'] = l    \n",
    "    \n",
    "print(df)"
   ]
  },
  {
   "cell_type": "code",
   "execution_count": 51,
   "id": "86de8f9e-415b-437f-9072-15b09ef5b717",
   "metadata": {},
   "outputs": [
    {
     "name": "stdout",
     "output_type": "stream",
     "text": [
      "         date    weekday\n",
      "2  2023-01-03    Tuesday\n",
      "3  2023-01-04  Wednesday\n",
      "4  2023-01-05   Thursday\n"
     ]
    }
   ],
   "source": [
    "#12\n",
    "\n",
    "mask = (df['date'] > \"2023-01-02\") & (df['date'] <= \"2023-01-05\")\n",
    "print(df.loc[mask])"
   ]
  },
  {
   "cell_type": "code",
   "execution_count": 42,
   "id": "5771dc15-3c3f-40c3-90f4-116133dfa6a5",
   "metadata": {},
   "outputs": [],
   "source": [
    "#13\n",
    "#import pandas  "
   ]
  },
  {
   "cell_type": "code",
   "execution_count": 52,
   "id": "9fa045b4-c771-4cde-84ae-4a4f3ae8a9f5",
   "metadata": {},
   "outputs": [
    {
     "name": "stdout",
     "output_type": "stream",
     "text": [
      "         date    weekday\n",
      "2  2023-01-03    Tuesday\n",
      "3  2023-01-04  Wednesday\n",
      "4  2023-01-05   Thursday\n"
     ]
    }
   ],
   "source": [
    "print(df[(df['date'] > \"2023-01-02\") & (df['date'] <= \"2023-01-05\")])"
   ]
  },
  {
   "cell_type": "code",
   "execution_count": null,
   "id": "95b33344-a039-4415-a60d-00ca3a57aaeb",
   "metadata": {},
   "outputs": [],
   "source": []
  }
 ],
 "metadata": {
  "kernelspec": {
   "display_name": "Python 3 (ipykernel)",
   "language": "python",
   "name": "python3"
  },
  "language_info": {
   "codemirror_mode": {
    "name": "ipython",
    "version": 3
   },
   "file_extension": ".py",
   "mimetype": "text/x-python",
   "name": "python",
   "nbconvert_exporter": "python",
   "pygments_lexer": "ipython3",
   "version": "3.10.8"
  }
 },
 "nbformat": 4,
 "nbformat_minor": 5
}
