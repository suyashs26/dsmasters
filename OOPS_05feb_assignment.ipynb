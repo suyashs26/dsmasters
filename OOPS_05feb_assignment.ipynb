{
 "cells": [
  {
   "cell_type": "code",
   "execution_count": 1,
   "id": "0466de7b-8f36-4c3c-9044-521bb0982908",
   "metadata": {},
   "outputs": [
    {
     "name": "stdout",
     "output_type": "stream",
     "text": [
      "5\n"
     ]
    }
   ],
   "source": [
    "#1\n",
    "# A Class is like an object constructor, or a \"blueprint\" for creating objects. Class contains specific properties related to a specific feature.\n",
    "#Object is an instance of a class.\n",
    "class MyClass:\n",
    "  x = 5\n",
    "p1 = MyClass()\n",
    "print(p1.x)\n",
    "\n",
    "# Here p1 is the object of class MyClass"
   ]
  },
  {
   "cell_type": "code",
   "execution_count": 2,
   "id": "03f4a80b-8548-48a3-bc79-346bb35e1db2",
   "metadata": {},
   "outputs": [],
   "source": [
    "#2\n",
    "# Inheritance, Polymorphism, Encapsulation and Abstraction"
   ]
  },
  {
   "cell_type": "code",
   "execution_count": 5,
   "id": "2d801ed7-73f3-447a-8f6e-edf5e848858e",
   "metadata": {},
   "outputs": [
    {
     "name": "stdout",
     "output_type": "stream",
     "text": [
      "xyz\n",
      "19\n"
     ]
    }
   ],
   "source": [
    "#3\n",
    "# Use the __init__() function to assign values to object properties, or other operations that are necessary to do when the object is being created. The __init__() function is called automatically every time the class is being used to create a new object.\n",
    "class Person:\n",
    "  def __init__(self, name, age):\n",
    "    self.name = name\n",
    "    self.age = age\n",
    "\n",
    "p1 = Person(\"xyz\", 19)\n",
    "\n",
    "print(p1.name)\n",
    "print(p1.age)"
   ]
  },
  {
   "cell_type": "code",
   "execution_count": 6,
   "id": "c0974801-e3ba-46f6-b6f6-2ec4bda37865",
   "metadata": {},
   "outputs": [],
   "source": [
    "#4\n",
    "# The self parameter is a reference to the current instance of the class, and is used to access variables that belongs to the class."
   ]
  },
  {
   "cell_type": "code",
   "execution_count": null,
   "id": "544534da-52a0-4adf-8a3e-a39eb79e9371",
   "metadata": {},
   "outputs": [],
   "source": [
    "#5\n",
    "# Inheritance is defined as the mechanism of inheriting the properties of the base class to the child class.\n",
    "# 1). Single inheritance\n",
    "#syntax_of_single_inheritance\n",
    "\n",
    "class class1:               #parent_class\n",
    "    pass\n",
    "\n",
    "class class2(class1):       #child_class\n",
    "    pass\n",
    "\n",
    "obj_name = class2()\n",
    "#2). Multiple inheritances\n",
    "#syntax_of_multiple_inheritance\n",
    "\n",
    "class parent_1:\n",
    "    pass\n",
    "\n",
    "class parent_2:\n",
    "    pass\n",
    "\n",
    "class child(parent_1,parent_2):\n",
    "    pass\n",
    "\n",
    "obj = child()\n",
    "#3). Multilevel inheritance\n",
    "\n",
    "#4). Hierarchical inheritance\n",
    "# 5). Hybrid inheritance"
   ]
  }
 ],
 "metadata": {
  "kernelspec": {
   "display_name": "Python 3 (ipykernel)",
   "language": "python",
   "name": "python3"
  },
  "language_info": {
   "codemirror_mode": {
    "name": "ipython",
    "version": 3
   },
   "file_extension": ".py",
   "mimetype": "text/x-python",
   "name": "python",
   "nbconvert_exporter": "python",
   "pygments_lexer": "ipython3",
   "version": "3.10.8"
  }
 },
 "nbformat": 4,
 "nbformat_minor": 5
}
