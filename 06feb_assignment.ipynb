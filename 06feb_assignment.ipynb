{
 "cells": [
  {
   "cell_type": "code",
   "execution_count": 17,
   "id": "002870cb-17c2-46e0-bfb3-11aeee8edf30",
   "metadata": {},
   "outputs": [
    {
     "name": "stdout",
     "output_type": "stream",
     "text": [
      "4134711838987085478833841242112000\n"
     ]
    }
   ],
   "source": [
    "\n",
    "#1\n",
    "from functools import reduce\n",
    "def product(list1):\n",
    "    L = []\n",
    "    for i in list1:\n",
    "        if(type(i)==int):\n",
    "            L.append(i)\n",
    "        if(type(i)==list):\n",
    "            for j in i:\n",
    "                if(type(j)==int):\n",
    "                    L.append(j)\n",
    "        if(type(i)==tuple):\n",
    "            for j in i:\n",
    "                L.append(j)\n",
    "        if(type(i)==dict):\n",
    "            for j in i.keys():\n",
    "                if(type(j)==int):\n",
    "                    L.append(j)\n",
    "            for k in i.values():\n",
    "                if(type(k)==int):\n",
    "                    L.append(k)\n",
    "                if(type(k)==list):\n",
    "                    #pass\n",
    "                    L.extend(k)\n",
    "                if(type(k)==tuple):\n",
    "                    for i in k:\n",
    "                        L.append(i)\n",
    "        if(type(i)==set):\n",
    "            for j in i:\n",
    "                L.append(j)\n",
    "    result = reduce(lambda a, b: a*b, L)\n",
    "    return result\n",
    "list1 = [1,2,3,4, [44,55,66, True], False, (34,56,78,89,34), {1,2,3,3,2,1}, {1:34, \"key2\": [55, 67, 78, 89], 4: (45,\n",
    "22, 61, 34)}, [56, 'data science'], 'Machine Learning']\n",
    "print(product(list1))\n",
    "\n",
    "    \n",
    "    "
   ]
  },
  {
   "cell_type": "code",
   "execution_count": 29,
   "id": "247c903b-1b43-44f1-ba6a-70446c56b109",
   "metadata": {},
   "outputs": [
    {
     "name": "stdout",
     "output_type": "stream",
     "text": [
      "i wznt to yecome z dztz scientist.\n",
      "None\n"
     ]
    }
   ],
   "source": [
    "def encrypt(string):\n",
    "    lower1= string.lower()\n",
    "    new_string= lower1.replace(\"a\",\"z\").replace(\"b\",\"y\").rep\n",
    "    print(new_string)\n",
    "string = \"I want to become a Data Scientist.\"\n",
    "print(encrypt(string))\n"
   ]
  },
  {
   "cell_type": "code",
   "execution_count": null,
   "id": "28fe2a9e-03b6-4776-b89d-3c99a0ee82b5",
   "metadata": {},
   "outputs": [],
   "source": []
  }
 ],
 "metadata": {
  "kernelspec": {
   "display_name": "Python 3 (ipykernel)",
   "language": "python",
   "name": "python3"
  },
  "language_info": {
   "codemirror_mode": {
    "name": "ipython",
    "version": 3
   },
   "file_extension": ".py",
   "mimetype": "text/x-python",
   "name": "python",
   "nbconvert_exporter": "python",
   "pygments_lexer": "ipython3",
   "version": "3.10.8"
  }
 },
 "nbformat": 4,
 "nbformat_minor": 5
}
