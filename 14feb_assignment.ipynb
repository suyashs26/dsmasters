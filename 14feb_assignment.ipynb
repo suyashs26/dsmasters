{
 "cells": [
  {
   "cell_type": "code",
   "execution_count": 1,
   "id": "3b600118-d747-47a6-9d19-a2cf58a156b6",
   "metadata": {},
   "outputs": [],
   "source": [
    "#1\n",
    "#Multithreading is running some functions  using multiple thread in a single process.\n",
    "#It is used to achieve parallel execution of program\n",
    "#threading module is used"
   ]
  },
  {
   "cell_type": "code",
   "execution_count": 2,
   "id": "840129e6-60af-421c-8b62-4c7f4f0b2f79",
   "metadata": {},
   "outputs": [],
   "source": [
    "#2\n",
    "#threading module is used to create ,run, get info of threads .\n",
    "#activeCount will give number of active threads.\n",
    "#current_thread:It is used to return the current Thread object, which corresponds to the caller's thread of control.\n",
    "#The module function enumerate() returns a list of all alive threads."
   ]
  },
  {
   "cell_type": "code",
   "execution_count": 3,
   "id": "d7ecf511-fbed-494e-9901-ce12cdeb9aaa",
   "metadata": {},
   "outputs": [],
   "source": [
    "#3\n",
    "#run and start function are used to execute a thread. when program calls start() method a new Thread is created and code inside run() method is executed in new Thread while if you call run() method directly no new Thread is created and code inside run() will execute on current Thread.\n",
    "#On invoking the join() method, the calling thread gets blocked until the thread object (on which the thread is called) gets terminated. \n",
    "#isalive function is used to check whether the current thread is active or not."
   ]
  },
  {
   "cell_type": "code",
   "execution_count": 16,
   "id": "aeb3d1ce-835a-4ab8-b262-8f3d9697ffb2",
   "metadata": {},
   "outputs": [
    {
     "name": "stdout",
     "output_type": "stream",
     "text": [
      "[1, 4, 9, 16, 25]\n",
      "<Thread(Thread-27 (calc), started 140605059487296)>\n",
      "[1, 8, 27, 64, 125]\n",
      "<Thread(Thread-28 (calc), started 140605059487296)>\n"
     ]
    }
   ],
   "source": [
    "#4\n",
    "import threading\n",
    "List = [1,2,3,4,5]\n",
    "fac = [2,3]\n",
    "\n",
    "def calc(fac, L):\n",
    "    x = []\n",
    "    for i in L:\n",
    "        x.append(i**fac)\n",
    "    print(x)\n",
    "    print(threading.current_thread())\n",
    "    return x\n",
    "\n",
    "for i in fac:\n",
    "    \n",
    "    result = threading.Thread(target=calc,args=(i,List,))\n",
    "    result.start()\n",
    "    \n"
   ]
  },
  {
   "cell_type": "code",
   "execution_count": null,
   "id": "c60ab611-5c46-4c45-89af-99347920d431",
   "metadata": {},
   "outputs": [],
   "source": [
    "#5\n",
    "'''\n",
    "Advantages:\n",
    "Enhanced performance by decreased development time\n",
    "Simplified and streamlined program coding\n",
    "Improvised GUI responsiveness\n",
    "Simultaneous and parallelized occurrence of tasks\n",
    "\n",
    "\n",
    "\n",
    "\n"
   ]
  }
 ],
 "metadata": {
  "kernelspec": {
   "display_name": "Python 3 (ipykernel)",
   "language": "python",
   "name": "python3"
  },
  "language_info": {
   "codemirror_mode": {
    "name": "ipython",
    "version": 3
   },
   "file_extension": ".py",
   "mimetype": "text/x-python",
   "name": "python",
   "nbconvert_exporter": "python",
   "pygments_lexer": "ipython3",
   "version": "3.10.8"
  }
 },
 "nbformat": 4,
 "nbformat_minor": 5
}
