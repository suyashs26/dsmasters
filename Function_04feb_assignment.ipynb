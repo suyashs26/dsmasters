{
 "cells": [
  {
   "cell_type": "code",
   "execution_count": 2,
   "id": "e24dd33c-87e0-44a3-8828-06dff7ffef79",
   "metadata": {},
   "outputs": [
    {
     "name": "stdout",
     "output_type": "stream",
     "text": [
      "[('Virat Kohli', 24936), ('Jack Kallis', 25534), ('Ricky Ponting', 27483), ('Sachin Tendulkar', 34357)]\n"
     ]
    }
   ],
   "source": [
    "#1\n",
    "L = [('Sachin Tendulkar', 34357), ('Ricky Ponting', 27483), ('Jack Kallis', 25534), ('Virat Kohli', 24936)]\n",
    "newList = sorted(L, key = lambda x : x[1],reverse=False)\n",
    "print(newList)"
   ]
  },
  {
   "cell_type": "code",
   "execution_count": 6,
   "id": "113469d0-afd6-4e03-bff4-b83afa3f8f2a",
   "metadata": {},
   "outputs": [
    {
     "name": "stdout",
     "output_type": "stream",
     "text": [
      "[1, 4, 9, 16, 25, 36, 49, 64, 81, 100]\n"
     ]
    }
   ],
   "source": [
    "#2\n",
    "L = [1, 2, 3, 4, 5, 6, 7, 8, 9, 10]\n",
    "a = map(lambda x : x**2,L)\n",
    "print(list(a))"
   ]
  },
  {
   "cell_type": "code",
   "execution_count": 7,
   "id": "750a6687-9cd8-4382-8acf-5ef15e5d4bbb",
   "metadata": {},
   "outputs": [
    {
     "name": "stdout",
     "output_type": "stream",
     "text": [
      "('1', '2', '3', '4', '5', '6', '7', '8', '9', '10')\n"
     ]
    }
   ],
   "source": [
    "#3\n",
    "L = [1, 2, 3, 4, 5, 6, 7, 8, 9, 10]\n",
    "a = map(lambda x : str(x),L)\n",
    "print(tuple(a))\n"
   ]
  },
  {
   "cell_type": "code",
   "execution_count": 11,
   "id": "aa85cb0a-3e13-4766-9509-f2025f9e96de",
   "metadata": {},
   "outputs": [
    {
     "name": "stdout",
     "output_type": "stream",
     "text": [
      "15511210043330985984000000\n"
     ]
    }
   ],
   "source": [
    "#4\n",
    "from functools import reduce\n",
    "L = [i for i in range(1,26)]\n",
    "print(reduce(lambda a, b: a*b, L))"
   ]
  },
  {
   "cell_type": "code",
   "execution_count": 13,
   "id": "a908f43b-3037-4dc9-9345-fe1dac41827f",
   "metadata": {},
   "outputs": [
    {
     "name": "stdout",
     "output_type": "stream",
     "text": [
      "[6, 60, 90, 120]\n"
     ]
    }
   ],
   "source": [
    "#5\n",
    "L= [2, 3, 6, 9, 27, 60, 90, 120, 55, 46]\n",
    "result= filter(lambda x: (x%2 == 0 and x%3==0), L)\n",
    "print(list(result))"
   ]
  },
  {
   "cell_type": "code",
   "execution_count": 14,
   "id": "e4fc0629-bef3-4988-9602-3417f12d9a14",
   "metadata": {},
   "outputs": [
    {
     "name": "stdout",
     "output_type": "stream",
     "text": [
      "['php', 'aba', 'radar', 'level']\n"
     ]
    }
   ],
   "source": [
    "#6\n",
    "L = ['python', 'php', 'aba', 'radar', 'level']\n",
    "result = list(filter(lambda x: (x == \"\".join(reversed(x))), L)) \n",
    "print(result)"
   ]
  },
  {
   "cell_type": "code",
   "execution_count": null,
   "id": "99e62985-d118-4230-bc75-f70d40e9ac0e",
   "metadata": {},
   "outputs": [],
   "source": []
  }
 ],
 "metadata": {
  "kernelspec": {
   "display_name": "Python 3 (ipykernel)",
   "language": "python",
   "name": "python3"
  },
  "language_info": {
   "codemirror_mode": {
    "name": "ipython",
    "version": 3
   },
   "file_extension": ".py",
   "mimetype": "text/x-python",
   "name": "python",
   "nbconvert_exporter": "python",
   "pygments_lexer": "ipython3",
   "version": "3.10.8"
  }
 },
 "nbformat": 4,
 "nbformat_minor": 5
}
