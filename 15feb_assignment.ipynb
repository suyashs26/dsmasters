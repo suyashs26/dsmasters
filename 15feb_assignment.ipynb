{
 "cells": [
  {
   "cell_type": "code",
   "execution_count": 1,
   "id": "3cf83927-d1a9-4b32-afdb-4c66aa8a0ce3",
   "metadata": {},
   "outputs": [],
   "source": [
    "#1\n",
    "#multiprocessing referes to ability of program to run multiple processes parallely in a single thread by using different cores of hardware\n",
    "#Useful for parallel processing."
   ]
  },
  {
   "cell_type": "code",
   "execution_count": 2,
   "id": "913b91c5-b55d-4b0b-9f59-1e91e1e55ebb",
   "metadata": {},
   "outputs": [
    {
     "data": {
      "text/plain": [
       "'\\nMultiprocessing uses two or more CPUs to increase computing power, whereas multithreading uses a single process with multiple code segments to increase computing power.\\nMultithreading focuses on generating computing threads from a single process, whereas multiprocessing increases computing power by adding CPUs.\\nMultiprocessing is used to create a more reliable system, whereas multithreading is used to create threads that run parallel to each other.\\nmultithreading is quick to create and requires few resources, whereas multiprocessing requires a significant amount of time and specific resources to create.\\n'"
      ]
     },
     "execution_count": 2,
     "metadata": {},
     "output_type": "execute_result"
    }
   ],
   "source": [
    "#2\n",
    "'''\n",
    "Multiprocessing uses two or more CPUs to increase computing power, whereas multithreading uses a single process with multiple code segments to increase computing power.\n",
    "Multithreading focuses on generating computing threads from a single process, whereas multiprocessing increases computing power by adding CPUs.\n",
    "Multiprocessing is used to create a more reliable system, whereas multithreading is used to create threads that run parallel to each other.\n",
    "multithreading is quick to create and requires few resources, whereas multiprocessing requires a significant amount of time and specific resources to create.\n",
    "'''\n"
   ]
  },
  {
   "cell_type": "code",
   "execution_count": 6,
   "id": "3db5a4f6-26bc-48de-a4f6-fb14092f0ead",
   "metadata": {},
   "outputs": [
    {
     "name": "stdout",
     "output_type": "stream",
     "text": [
      "The name of continent is :  America\n",
      "The name of continent is :  EuropeThe name of continent is : \n",
      " Africa\n"
     ]
    }
   ],
   "source": [
    "#3\n",
    "from multiprocessing import Process\n",
    "\n",
    "\n",
    "def print_func(continent='Asia'):\n",
    "    print('The name of continent is : ', continent)\n",
    "\n",
    "if __name__ == \"__main__\":  \n",
    "    names = ['America', 'Europe', 'Africa']\n",
    "    procs = []\n",
    "\n",
    "    for name in names:\n",
    "        # print(name)\n",
    "        proc = Process(target=print_func, args=(name,))\n",
    "        procs.append(proc)\n",
    "        proc.start()\n",
    "\n",
    "    # complete the processes\n",
    "    for proc in procs:\n",
    "        proc.join()"
   ]
  },
  {
   "cell_type": "code",
   "execution_count": 7,
   "id": "3ddad784-ba30-4098-860b-3389770af3ed",
   "metadata": {},
   "outputs": [],
   "source": [
    "#4\n",
    "#The Pool class represents a pool of worker processes. It has methods which allows tasks to be offloaded to the worker processes in a few different ways\n",
    "#The Python Multiprocessing Pool class allows you to create and manage process pools in Python.\n",
    "#Python multiprocessing Pool can be used for parallel execution of a function across multiple input values, distributing the input data across processes (data parallelism)"
   ]
  },
  {
   "cell_type": "code",
   "execution_count": 14,
   "id": "fff0981e-b8b3-4b7a-95e6-6c6ed0e72517",
   "metadata": {},
   "outputs": [
    {
     "name": "stdout",
     "output_type": "stream",
     "text": [
      "[1, 4, 9]\n"
     ]
    }
   ],
   "source": [
    "#5\n",
    "from multiprocessing import Pool\n",
    "\n",
    "def f(x):\n",
    "    return x*x\n",
    "\n",
    "if __name__ == '__main__':\n",
    "    with Pool(5) as p:  #5 processes\n",
    "        print(p.map(f, [1, 2, 3]))"
   ]
  },
  {
   "cell_type": "code",
   "execution_count": 15,
   "id": "a102e044-dc0d-4873-a98c-93c48c4f7fba",
   "metadata": {},
   "outputs": [
    {
     "name": "stdout",
     "output_type": "stream",
     "text": [
      "Number is 0\n"
     ]
    }
   ],
   "source": [
    "#6\n",
    "from multiprocessing import Process\n",
    "import random\n",
    "n = random.randint(0,22)\n",
    "\n",
    "\n",
    "def f(name):\n",
    "    print('Number is', name)\n",
    "\n",
    "if __name__ == \"__main__\":  \n",
    "    numbrtd\n",
    "    procs = []\n",
    "    for name in names:\n",
    "        # print(name)\n",
    "        proc = Process(target=print_func, args=(name,))\n",
    "        procs.append(proc)\n",
    "        proc.start()\n",
    "\n",
    "    # complete the processes\n",
    "    for proc in procs:\n",
    "        proc.join()"
   ]
  },
  {
   "cell_type": "code",
   "execution_count": null,
   "id": "e5f5a6ff-b980-451e-b9c2-e51aafb0d311",
   "metadata": {},
   "outputs": [],
   "source": []
  }
 ],
 "metadata": {
  "kernelspec": {
   "display_name": "Python 3 (ipykernel)",
   "language": "python",
   "name": "python3"
  },
  "language_info": {
   "codemirror_mode": {
    "name": "ipython",
    "version": 3
   },
   "file_extension": ".py",
   "mimetype": "text/x-python",
   "name": "python",
   "nbconvert_exporter": "python",
   "pygments_lexer": "ipython3",
   "version": "3.10.8"
  }
 },
 "nbformat": 4,
 "nbformat_minor": 5
}
