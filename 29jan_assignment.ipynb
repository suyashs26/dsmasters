{
 "cells": [
  {
   "cell_type": "markdown",
   "id": "4eb5d31f-ec1c-4383-8f3e-2852a729ac89",
   "metadata": {},
   "source": [
    "#1 Guido van Rossum\n",
    "\n",
    "#2 Dynamic programming\n",
    "\n",
    "#3 Yes python is case sensitive\n",
    "\n",
    "#4 .py is extension\n",
    "\n",
    "#5 Interpreted\n",
    "\n",
    "#6 Some blocks: module, function, class\n",
    "\n",
    "#7 # is the character\n",
    "\n",
    "#8 sys.version\n",
    "\n",
    "#9 lambda functions\n",
    "\n",
    "#10 preferred installer program\n",
    "\n",
    "#11 bin(), bool(),str(),int()\n",
    "\n",
    "#12 79 characters\n",
    "\n",
    "#13  open source, portable, large community,dynamic\n",
    "\n",
    "#14 There are two parts of memory:\n",
    "stack memory\n",
    "heap memory\n",
    "The methods/method calls and the references are stored in stack memory and all the values objects are stored in a private heap.\n",
    "\n",
    "#15 Install python from this link https://www.python.org/downloads/\n",
    "After this, install it on your PC. Look for the location where PYTHON has been installed on your PC using tge following command on your command prompt: cmd python.\n",
    "Then go to advanced system settings and add new variable and name it as PYTHON_NAME and paste the copied path.\n",
    "Then look for the path variable, select it's value and select edit\n",
    "Add a semicolon towards the end of the value if it's not present and then type %PYTHON_HOME%\n",
    "\n",
    "#16 Yes"
   ]
  },
  {
   "cell_type": "code",
   "execution_count": null,
   "id": "5483dee8-383e-4d3b-ad5d-03990c5118ea",
   "metadata": {},
   "outputs": [],
   "source": []
  }
 ],
 "metadata": {
  "kernelspec": {
   "display_name": "Python 3 (ipykernel)",
   "language": "python",
   "name": "python3"
  },
  "language_info": {
   "codemirror_mode": {
    "name": "ipython",
    "version": 3
   },
   "file_extension": ".py",
   "mimetype": "text/x-python",
   "name": "python",
   "nbconvert_exporter": "python",
   "pygments_lexer": "ipython3",
   "version": "3.10.8"
  }
 },
 "nbformat": 4,
 "nbformat_minor": 5
}
