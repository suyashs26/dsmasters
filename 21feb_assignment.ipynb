{
 "cells": [
  {
   "cell_type": "code",
   "execution_count": 1,
   "id": "567e7825-7996-4362-8d04-fba9e1b43bff",
   "metadata": {},
   "outputs": [],
   "source": [
    "#1\n",
    "#web scrapping is basically extracting some data or information from a website .\n",
    "#In research, Ecommerce, Market study etc where scrapping is used"
   ]
  },
  {
   "cell_type": "code",
   "execution_count": 2,
   "id": "20b52adb-0392-4a37-9bc6-c6e9f1881e17",
   "metadata": {},
   "outputs": [],
   "source": [
    "#2\n",
    "#HTML Parsing, Pattern matching through regex,DOM parsing\n"
   ]
  },
  {
   "cell_type": "code",
   "execution_count": 3,
   "id": "14b9b7a7-16b1-4c0f-8dc4-91b337bb33fa",
   "metadata": {},
   "outputs": [],
   "source": [
    "#3\n",
    "#Beautiful Soup is a python library which is used to beautify html docs and help in web scrapping to extract data.\n"
   ]
  },
  {
   "cell_type": "code",
   "execution_count": 4,
   "id": "1fb768ef-3ed4-43fc-9067-55cccf52e6d3",
   "metadata": {},
   "outputs": [],
   "source": [
    "#4\n",
    "#Flask is used to create end to end web application by using exposing APIs of scrapped data from web. "
   ]
  },
  {
   "cell_type": "code",
   "execution_count": null,
   "id": "0129e3e0-3ec4-439c-83f0-352910cefac9",
   "metadata": {},
   "outputs": [],
   "source": [
    "#5\n",
    "#Code pipeline and Bean stack\n"
   ]
  }
 ],
 "metadata": {
  "kernelspec": {
   "display_name": "Python 3 (ipykernel)",
   "language": "python",
   "name": "python3"
  },
  "language_info": {
   "codemirror_mode": {
    "name": "ipython",
    "version": 3
   },
   "file_extension": ".py",
   "mimetype": "text/x-python",
   "name": "python",
   "nbconvert_exporter": "python",
   "pygments_lexer": "ipython3",
   "version": "3.10.8"
  }
 },
 "nbformat": 4,
 "nbformat_minor": 5
}
