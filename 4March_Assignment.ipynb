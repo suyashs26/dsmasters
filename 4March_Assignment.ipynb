{
 "cells": [
  {
   "cell_type": "code",
   "execution_count": null,
   "id": "2e9b934c-775c-42c2-a23c-ffdd7f448588",
   "metadata": {},
   "outputs": [],
   "source": [
    "#1\n",
    "import seaborn as sns\n",
    "import plotly.express as px\n",
    "data = sns.load_dataset('titanic')\n",
    "\n",
    "fig = px.scatter(data, x=data['age'], y=data['fare'],width=200, height=100)\n",
    "fig.show()"
   ]
  },
  {
   "cell_type": "code",
   "execution_count": null,
   "id": "8a496e35-c1cb-46a6-91c5-e9fd371cabcf",
   "metadata": {},
   "outputs": [],
   "source": [
    "#2\n",
    "import plotly.express as px\n",
    "tips = px.data.tips()\n",
    "fig = px.box(tips, y=\"total_bill\")\n",
    "fig.show()"
   ]
  },
  {
   "cell_type": "code",
   "execution_count": null,
   "id": "62c3a39f-0316-4481-b5b5-dcf5d6a29eea",
   "metadata": {},
   "outputs": [],
   "source": [
    "#3\n",
    "fig = px.histogram(tips, x=\"sex\",y=\"total_bill\", pattern_shape=\"smoker\",color=\"day\")\n",
    "fig.show()"
   ]
  },
  {
   "cell_type": "code",
   "execution_count": null,
   "id": "13a56f61-6a87-4225-a2ed-7f0948e0e80f",
   "metadata": {},
   "outputs": [],
   "source": [
    "#4\n",
    "df = px.data.iris()\n",
    "fig = px.scatter_matrix(df,color=\"species\")\n",
    "fig.show()"
   ]
  },
  {
   "cell_type": "code",
   "execution_count": null,
   "id": "1fa84c92-2cdc-4e90-87b2-770cbdb37900",
   "metadata": {},
   "outputs": [],
   "source": [
    "#5\n",
    "Distplot is nothing but a histogram plot.\n",
    "fig = px.histogram(tips, x=\"sex\",y=\"total_bill\", pattern_shape=\"smoker\",color=\"day\")\n",
    "fig.show()"
   ]
  }
 ],
 "metadata": {
  "kernelspec": {
   "display_name": "Python 3 (ipykernel)",
   "language": "python",
   "name": "python3"
  },
  "language_info": {
   "codemirror_mode": {
    "name": "ipython",
    "version": 3
   },
   "file_extension": ".py",
   "mimetype": "text/x-python",
   "name": "python",
   "nbconvert_exporter": "python",
   "pygments_lexer": "ipython3",
   "version": "3.10.8"
  }
 },
 "nbformat": 4,
 "nbformat_minor": 5
}
